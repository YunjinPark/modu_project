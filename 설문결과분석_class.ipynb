{
 "cells": [
  {
   "cell_type": "code",
   "execution_count": null,
   "metadata": {},
   "outputs": [],
   "source": []
  },
  {
   "cell_type": "code",
   "execution_count": null,
   "metadata": {},
   "outputs": [],
   "source": []
  },
  {
   "cell_type": "code",
   "execution_count": 18,
   "metadata": {},
   "outputs": [],
   "source": [
    "import os\n",
    "import pandas as pd\n",
    "import seaborn as sns\n",
    "import matplotlib.pyplot as plt\n",
    "import scipy as sp\n",
    "import numpy as np"
   ]
  },
  {
   "cell_type": "code",
   "execution_count": 19,
   "metadata": {},
   "outputs": [],
   "source": [
    "# 폰트 지정해주기 \n",
    "import matplotlib.font_manager as fm\n",
    "font_dirs = ['/usr/share/fonts/truetype/nanum']\n",
    "font_files = fm.findSystemFonts(fontpaths=font_dirs)\n",
    "font_list = fm.createFontList(font_files)\n",
    "fm.fontManager.ttflist.extend(font_list)\n",
    "plt.rcParams['font.family'] = 'NanumGothic'"
   ]
  },
  {
   "cell_type": "code",
   "execution_count": 20,
   "metadata": {},
   "outputs": [],
   "source": [
    "file_path = './'\n",
    "f_A = os.path.join(file_path, '20191208_all_data_final_A.xlsx')\n",
    "f_B = os.path.join(file_path, '20191208_all_data_final_B.xlsx')"
   ]
  },
  {
   "cell_type": "code",
   "execution_count": 21,
   "metadata": {},
   "outputs": [],
   "source": [
    "data_art_col = ['act_1_art', 'act_2_art', 'act_3_art', 'act_4_art',\n",
    "                'dra_1_art', 'dra_2_art', 'dra_3_art', 'dra_4_art'\n",
    "               ]\n",
    "data_gen_col = ['act_1_gen', 'act_2_gen', 'act_3_gen', 'act_4_gen',\n",
    "                'dra_1_gen', 'dra_2_gen', 'dra_3_gen', 'dra_4_gen'\n",
    "               ]"
   ]
  },
  {
   "cell_type": "code",
   "execution_count": 22,
   "metadata": {},
   "outputs": [],
   "source": [
    "data_A_0 = pd.read_excel(f_A,sheet_name= 'all responses', header=1,  skiprows=[2])\n",
    "data_A_0 = data_A_0.rename(columns={'귀하의 성별은?': \"성별\", '귀하의 연령대는?': \"나이\", \n",
    "                \"이 영화를 보고싶은 의향이 있으십니까?(1점 : 별로 보고 싶지 않다 ~\\xa0 10점 : 반드시 보러 가겠다)\": \"act_1_gen\",\n",
    "                \"이 영화를 보고싶은 의향이 있으십니까?(1점 : 별로 보고 싶지 않다 ~\\xa0 10점 : 반드시 보러 가겠다).1\": \"dra_1_gen\",\n",
    "                \"이 영화를 보고싶은 의향이 있으십니까?(1점 : 별로 보고 싶지 않다 ~\\xa0 10점 : 반드시 보러 가겠다).2\": \"act_2_art\",\n",
    "                \"이 영화를 보고싶은 의향이 있으십니까?(1점 : 별로 보고 싶지 않다 ~\\xa0 10점 : 반드시 보러 가겠다).3\": \"dra_2_art\",\n",
    "                \"이 영화를 보고싶은 의향이 있으십니까?(1점 : 별로 보고 싶지 않다 ~\\xa0 10점 : 반드시 보러 가겠다).4\": \"act_3_gen\",\n",
    "                \"이 영화를 보고싶은 의향이 있으십니까?(1점 : 별로 보고 싶지 않다 ~\\xa0 10점 : 반드시 보러 가겠다).5\": \"dra_3_gen\",\n",
    "                \"이 영화를 보고싶은 의향이 있으십니까?(1점 : 별로 보고 싶지 않다 ~\\xa0 10점 : 반드시 보러 가겠다).6\": \"act_4_art\",\n",
    "                \"이 영화를 보고싶은 의향이 있으십니까?(1점 : 별로 보고 싶지 않다 ~\\xa0 10점 : 반드시 보러 가겠다).7\": \"dra_4_art\"},\n",
    "                errors=\"raise\")\n",
    "data_A_0 = data_A_0[['성별', '나이', \n",
    "                 \"act_1_gen\", \"dra_1_gen\",\n",
    "                 \"act_2_art\", \"dra_2_art\", \n",
    "                 \"act_3_gen\", \"dra_3_gen\", \n",
    "                 \"act_4_art\", \"dra_4_art\"\n",
    "                ]]\n",
    "data_A_list = [ \"act_1_gen\", \"dra_1_gen\",\n",
    "                 \"act_2_art\", \"dra_2_art\", \n",
    "                 \"act_3_gen\", \"dra_3_gen\", \n",
    "                 \"act_4_art\", \"dra_4_art\"]\n"
   ]
  },
  {
   "cell_type": "code",
   "execution_count": 23,
   "metadata": {},
   "outputs": [],
   "source": [
    "data_B_0 = pd.read_excel(f_B,sheet_name= 'all responses', header=1,  skiprows=[2])\n",
    "data_B_0 = data_B_0.rename(columns={'귀하의 성별은?': \"성별\", '귀하의 연령대는?': \"나이\", \n",
    "                \"이 영화를 보고싶은 의향이 있으십니까?(1점 : 별로 보고 싶지 않다 ~\\xa0 10점 : 반드시 보러 가겠다)\": \"act_1_art\",\n",
    "                \"이 영화를 보고싶은 의향이 있으십니까?(1점 : 별로 보고 싶지 않다 ~\\xa0 10점 : 반드시 보러 가겠다).1\": \"dra_1_art\",\n",
    "                \"이 영화를 보고싶은 의향이 있으십니까?(1점 : 별로 보고 싶지 않다 ~\\xa0 10점 : 반드시 보러 가겠다).2\": \"act_2_gen\",\n",
    "                \"이 영화를 보고싶은 의향이 있으십니까?(1점 : 별로 보고 싶지 않다 ~\\xa0 10점 : 반드시 보러 가겠다).3\": \"dra_2_gen\",\n",
    "                \"이 영화를 보고싶은 의향이 있으십니까?(1점 : 별로 보고 싶지 않다 ~\\xa0 10점 : 반드시 보러 가겠다).4\": \"act_3_art\",\n",
    "                \"이 영화를 보고싶은 의향이 있으십니까?(1점 : 별로 보고 싶지 않다 ~\\xa0 10점 : 반드시 보러 가겠다).5\": \"dra_3_art\",\n",
    "                \"이 영화를 보고싶은 의향이 있으십니까?(1점 : 별로 보고 싶지 않다 ~\\xa0 10점 : 반드시 보러 가겠다).6\": \"act_4_gen\",\n",
    "                \"이 영화를 보고싶은 의향이 있으십니까?(1점 : 별로 보고 싶지 않다 ~\\xa0 10점 : 반드시 보러 가겠다).7\": \"dra_4_gen\"},\n",
    "                errors=\"raise\")\n",
    "data_B_0 = data_B_0[['성별', '나이', \n",
    "                 \"act_1_art\", \"dra_1_art\",\n",
    "                 \"act_2_gen\", \"dra_2_gen\", \n",
    "                 \"act_3_art\", \"dra_3_art\", \n",
    "                 \"act_4_gen\", \"dra_4_gen\"\n",
    "                ]]\n",
    "data_B_list = [  \"act_1_art\", \"dra_1_art\",\n",
    "                 \"act_2_gen\", \"dra_2_gen\", \n",
    "                 \"act_3_art\", \"dra_3_art\", \n",
    "                 \"act_4_gen\", \"dra_4_gen\"]\n",
    "\n"
   ]
  },
  {
   "cell_type": "code",
   "execution_count": 24,
   "metadata": {},
   "outputs": [],
   "source": [
    "# 8문항에 대한 평균, 합, 분산 구하기 \n",
    "data_A_0['mean'] = data_A_0[data_A_list].mean(axis = 1)\n",
    "data_B_0['mean'] = data_B_0[data_B_list].mean(axis = 1)\n",
    "data_A_0['sum'] = data_A_0[data_A_list].sum(axis = 1)\n",
    "data_B_0['sum'] = data_B_0[data_B_list].sum(axis = 1)\n",
    "data_A_0['var'] = data_A_0[data_A_list].var(axis = 1)\n",
    "data_B_0['var'] = data_B_0[data_B_list].var(axis = 1)"
   ]
  },
  {
   "cell_type": "code",
   "execution_count": 25,
   "metadata": {},
   "outputs": [],
   "source": [
    "# 나이 그룹핑 \n",
    "def age_1(df):\n",
    "    df['나이'] = df['나이'].apply(lambda x: str(int(str(x)[:1])*10) + \"대\")\n",
    "    return df \n",
    "data_A_0 = age_1(data_A_0)\n",
    "data_B_0 = age_1(data_B_0)"
   ]
  },
  {
   "cell_type": "code",
   "execution_count": 26,
   "metadata": {},
   "outputs": [
    {
     "name": "stdout",
     "output_type": "stream",
     "text": [
      "그룹A: 288 명\n",
      "그룹B: 293 명\n",
      "총: 581 명\n"
     ]
    }
   ],
   "source": [
    "print('그룹A:', len(data_A_0),'명')\n",
    "print('그룹B:', len(data_B_0),'명')\n",
    "print('총:', len(data_A_0)+len(data_B_0),'명')"
   ]
  },
  {
   "cell_type": "markdown",
   "metadata": {},
   "source": [
    "<a id='outlier'></a>\n",
    "# 무성의한 답변 제거\n",
    "* 모든 항목을 같은 점수로 준 피실험자의 답변은 무성의한 것으로 보고 답변을 제거  \n",
    "예를 들면 (1,1,1,1,1,1,1,1), (3,3,3,3,3,3,3,3) 등\n",
    "* 8항목에 대해 분산이 0이면 제거"
   ]
  },
  {
   "cell_type": "code",
   "execution_count": 11,
   "metadata": {},
   "outputs": [],
   "source": [
    "data_A = data_A_0[data_A_0['var']!=0]\n",
    "data_B = data_B_0[data_B_0['var']!=0]"
   ]
  },
  {
   "cell_type": "markdown",
   "metadata": {},
   "source": [
    "#### 변경 전 \n",
    "변경 전 데이터를 보면 [행:min, 열:var] variance = 0인 항목이 있다는 것을 알 수 있다. "
   ]
  },
  {
   "cell_type": "code",
   "execution_count": 12,
   "metadata": {
    "scrolled": true
   },
   "outputs": [
    {
     "data": {
      "text/html": [
       "<div>\n",
       "<style scoped>\n",
       "    .dataframe tbody tr th:only-of-type {\n",
       "        vertical-align: middle;\n",
       "    }\n",
       "\n",
       "    .dataframe tbody tr th {\n",
       "        vertical-align: top;\n",
       "    }\n",
       "\n",
       "    .dataframe thead th {\n",
       "        text-align: right;\n",
       "    }\n",
       "</style>\n",
       "<table border=\"1\" class=\"dataframe\">\n",
       "  <thead>\n",
       "    <tr style=\"text-align: right;\">\n",
       "      <th></th>\n",
       "      <th>act_1_gen</th>\n",
       "      <th>dra_1_gen</th>\n",
       "      <th>act_2_art</th>\n",
       "      <th>dra_2_art</th>\n",
       "      <th>act_3_gen</th>\n",
       "      <th>dra_3_gen</th>\n",
       "      <th>act_4_art</th>\n",
       "      <th>dra_4_art</th>\n",
       "      <th>mean</th>\n",
       "      <th>sum</th>\n",
       "      <th>var</th>\n",
       "    </tr>\n",
       "  </thead>\n",
       "  <tbody>\n",
       "    <tr>\n",
       "      <th>count</th>\n",
       "      <td>288.00000</td>\n",
       "      <td>288.000000</td>\n",
       "      <td>288.000000</td>\n",
       "      <td>288.000000</td>\n",
       "      <td>288.000000</td>\n",
       "      <td>288.000000</td>\n",
       "      <td>288.000000</td>\n",
       "      <td>288.000000</td>\n",
       "      <td>288.000000</td>\n",
       "      <td>288.000000</td>\n",
       "      <td>288.000000</td>\n",
       "    </tr>\n",
       "    <tr>\n",
       "      <th>mean</th>\n",
       "      <td>5.56250</td>\n",
       "      <td>5.104167</td>\n",
       "      <td>5.454861</td>\n",
       "      <td>5.246528</td>\n",
       "      <td>5.572917</td>\n",
       "      <td>5.597222</td>\n",
       "      <td>5.055556</td>\n",
       "      <td>5.371528</td>\n",
       "      <td>5.370660</td>\n",
       "      <td>42.965278</td>\n",
       "      <td>3.813244</td>\n",
       "    </tr>\n",
       "    <tr>\n",
       "      <th>std</th>\n",
       "      <td>2.59111</td>\n",
       "      <td>2.372075</td>\n",
       "      <td>2.339937</td>\n",
       "      <td>2.357800</td>\n",
       "      <td>2.396621</td>\n",
       "      <td>2.577900</td>\n",
       "      <td>2.274775</td>\n",
       "      <td>2.417450</td>\n",
       "      <td>1.593754</td>\n",
       "      <td>12.750029</td>\n",
       "      <td>2.948587</td>\n",
       "    </tr>\n",
       "    <tr>\n",
       "      <th>min</th>\n",
       "      <td>1.00000</td>\n",
       "      <td>1.000000</td>\n",
       "      <td>1.000000</td>\n",
       "      <td>1.000000</td>\n",
       "      <td>1.000000</td>\n",
       "      <td>1.000000</td>\n",
       "      <td>1.000000</td>\n",
       "      <td>1.000000</td>\n",
       "      <td>1.250000</td>\n",
       "      <td>10.000000</td>\n",
       "      <td>0.000000</td>\n",
       "    </tr>\n",
       "    <tr>\n",
       "      <th>25%</th>\n",
       "      <td>3.00000</td>\n",
       "      <td>3.000000</td>\n",
       "      <td>4.000000</td>\n",
       "      <td>3.000000</td>\n",
       "      <td>4.000000</td>\n",
       "      <td>3.000000</td>\n",
       "      <td>3.000000</td>\n",
       "      <td>4.000000</td>\n",
       "      <td>4.375000</td>\n",
       "      <td>35.000000</td>\n",
       "      <td>1.553571</td>\n",
       "    </tr>\n",
       "    <tr>\n",
       "      <th>50%</th>\n",
       "      <td>6.00000</td>\n",
       "      <td>5.000000</td>\n",
       "      <td>6.000000</td>\n",
       "      <td>6.000000</td>\n",
       "      <td>6.000000</td>\n",
       "      <td>6.000000</td>\n",
       "      <td>5.000000</td>\n",
       "      <td>5.000000</td>\n",
       "      <td>5.375000</td>\n",
       "      <td>43.000000</td>\n",
       "      <td>3.133929</td>\n",
       "    </tr>\n",
       "    <tr>\n",
       "      <th>75%</th>\n",
       "      <td>7.00000</td>\n",
       "      <td>7.000000</td>\n",
       "      <td>7.000000</td>\n",
       "      <td>7.000000</td>\n",
       "      <td>7.000000</td>\n",
       "      <td>8.000000</td>\n",
       "      <td>7.000000</td>\n",
       "      <td>7.000000</td>\n",
       "      <td>6.375000</td>\n",
       "      <td>51.000000</td>\n",
       "      <td>5.174107</td>\n",
       "    </tr>\n",
       "    <tr>\n",
       "      <th>max</th>\n",
       "      <td>10.00000</td>\n",
       "      <td>10.000000</td>\n",
       "      <td>10.000000</td>\n",
       "      <td>10.000000</td>\n",
       "      <td>10.000000</td>\n",
       "      <td>10.000000</td>\n",
       "      <td>10.000000</td>\n",
       "      <td>10.000000</td>\n",
       "      <td>9.875000</td>\n",
       "      <td>79.000000</td>\n",
       "      <td>17.267857</td>\n",
       "    </tr>\n",
       "  </tbody>\n",
       "</table>\n",
       "</div>"
      ],
      "text/plain": [
       "       act_1_gen   dra_1_gen   act_2_art   dra_2_art   act_3_gen   dra_3_gen  \\\n",
       "count  288.00000  288.000000  288.000000  288.000000  288.000000  288.000000   \n",
       "mean     5.56250    5.104167    5.454861    5.246528    5.572917    5.597222   \n",
       "std      2.59111    2.372075    2.339937    2.357800    2.396621    2.577900   \n",
       "min      1.00000    1.000000    1.000000    1.000000    1.000000    1.000000   \n",
       "25%      3.00000    3.000000    4.000000    3.000000    4.000000    3.000000   \n",
       "50%      6.00000    5.000000    6.000000    6.000000    6.000000    6.000000   \n",
       "75%      7.00000    7.000000    7.000000    7.000000    7.000000    8.000000   \n",
       "max     10.00000   10.000000   10.000000   10.000000   10.000000   10.000000   \n",
       "\n",
       "        act_4_art   dra_4_art        mean         sum         var  \n",
       "count  288.000000  288.000000  288.000000  288.000000  288.000000  \n",
       "mean     5.055556    5.371528    5.370660   42.965278    3.813244  \n",
       "std      2.274775    2.417450    1.593754   12.750029    2.948587  \n",
       "min      1.000000    1.000000    1.250000   10.000000    0.000000  \n",
       "25%      3.000000    4.000000    4.375000   35.000000    1.553571  \n",
       "50%      5.000000    5.000000    5.375000   43.000000    3.133929  \n",
       "75%      7.000000    7.000000    6.375000   51.000000    5.174107  \n",
       "max     10.000000   10.000000    9.875000   79.000000   17.267857  "
      ]
     },
     "execution_count": 12,
     "metadata": {},
     "output_type": "execute_result"
    }
   ],
   "source": [
    "data_A_0.describe()"
   ]
  },
  {
   "cell_type": "code",
   "execution_count": 13,
   "metadata": {},
   "outputs": [
    {
     "data": {
      "text/html": [
       "<div>\n",
       "<style scoped>\n",
       "    .dataframe tbody tr th:only-of-type {\n",
       "        vertical-align: middle;\n",
       "    }\n",
       "\n",
       "    .dataframe tbody tr th {\n",
       "        vertical-align: top;\n",
       "    }\n",
       "\n",
       "    .dataframe thead th {\n",
       "        text-align: right;\n",
       "    }\n",
       "</style>\n",
       "<table border=\"1\" class=\"dataframe\">\n",
       "  <thead>\n",
       "    <tr style=\"text-align: right;\">\n",
       "      <th></th>\n",
       "      <th>act_1_art</th>\n",
       "      <th>dra_1_art</th>\n",
       "      <th>act_2_gen</th>\n",
       "      <th>dra_2_gen</th>\n",
       "      <th>act_3_art</th>\n",
       "      <th>dra_3_art</th>\n",
       "      <th>act_4_gen</th>\n",
       "      <th>dra_4_gen</th>\n",
       "      <th>mean</th>\n",
       "      <th>sum</th>\n",
       "      <th>var</th>\n",
       "    </tr>\n",
       "  </thead>\n",
       "  <tbody>\n",
       "    <tr>\n",
       "      <th>count</th>\n",
       "      <td>293.000000</td>\n",
       "      <td>293.000000</td>\n",
       "      <td>293.000000</td>\n",
       "      <td>293.000000</td>\n",
       "      <td>293.000000</td>\n",
       "      <td>293.000000</td>\n",
       "      <td>293.000000</td>\n",
       "      <td>293.000000</td>\n",
       "      <td>293.000000</td>\n",
       "      <td>293.000000</td>\n",
       "      <td>293.000000</td>\n",
       "    </tr>\n",
       "    <tr>\n",
       "      <th>mean</th>\n",
       "      <td>5.747440</td>\n",
       "      <td>5.276451</td>\n",
       "      <td>6.174061</td>\n",
       "      <td>5.242321</td>\n",
       "      <td>5.904437</td>\n",
       "      <td>5.754266</td>\n",
       "      <td>5.259386</td>\n",
       "      <td>5.470990</td>\n",
       "      <td>5.603669</td>\n",
       "      <td>44.829352</td>\n",
       "      <td>3.661568</td>\n",
       "    </tr>\n",
       "    <tr>\n",
       "      <th>std</th>\n",
       "      <td>2.462952</td>\n",
       "      <td>2.552602</td>\n",
       "      <td>2.345298</td>\n",
       "      <td>2.443747</td>\n",
       "      <td>2.398147</td>\n",
       "      <td>2.407400</td>\n",
       "      <td>2.480255</td>\n",
       "      <td>2.420661</td>\n",
       "      <td>1.685572</td>\n",
       "      <td>13.484576</td>\n",
       "      <td>3.092739</td>\n",
       "    </tr>\n",
       "    <tr>\n",
       "      <th>min</th>\n",
       "      <td>1.000000</td>\n",
       "      <td>1.000000</td>\n",
       "      <td>1.000000</td>\n",
       "      <td>1.000000</td>\n",
       "      <td>1.000000</td>\n",
       "      <td>1.000000</td>\n",
       "      <td>1.000000</td>\n",
       "      <td>1.000000</td>\n",
       "      <td>1.000000</td>\n",
       "      <td>8.000000</td>\n",
       "      <td>0.000000</td>\n",
       "    </tr>\n",
       "    <tr>\n",
       "      <th>25%</th>\n",
       "      <td>4.000000</td>\n",
       "      <td>3.000000</td>\n",
       "      <td>5.000000</td>\n",
       "      <td>3.000000</td>\n",
       "      <td>4.000000</td>\n",
       "      <td>4.000000</td>\n",
       "      <td>3.000000</td>\n",
       "      <td>4.000000</td>\n",
       "      <td>4.625000</td>\n",
       "      <td>37.000000</td>\n",
       "      <td>1.357143</td>\n",
       "    </tr>\n",
       "    <tr>\n",
       "      <th>50%</th>\n",
       "      <td>6.000000</td>\n",
       "      <td>5.000000</td>\n",
       "      <td>7.000000</td>\n",
       "      <td>5.000000</td>\n",
       "      <td>6.000000</td>\n",
       "      <td>6.000000</td>\n",
       "      <td>5.000000</td>\n",
       "      <td>6.000000</td>\n",
       "      <td>5.625000</td>\n",
       "      <td>45.000000</td>\n",
       "      <td>2.839286</td>\n",
       "    </tr>\n",
       "    <tr>\n",
       "      <th>75%</th>\n",
       "      <td>8.000000</td>\n",
       "      <td>7.000000</td>\n",
       "      <td>8.000000</td>\n",
       "      <td>7.000000</td>\n",
       "      <td>8.000000</td>\n",
       "      <td>8.000000</td>\n",
       "      <td>7.000000</td>\n",
       "      <td>7.000000</td>\n",
       "      <td>6.625000</td>\n",
       "      <td>53.000000</td>\n",
       "      <td>5.142857</td>\n",
       "    </tr>\n",
       "    <tr>\n",
       "      <th>max</th>\n",
       "      <td>10.000000</td>\n",
       "      <td>10.000000</td>\n",
       "      <td>10.000000</td>\n",
       "      <td>10.000000</td>\n",
       "      <td>10.000000</td>\n",
       "      <td>10.000000</td>\n",
       "      <td>10.000000</td>\n",
       "      <td>10.000000</td>\n",
       "      <td>10.000000</td>\n",
       "      <td>80.000000</td>\n",
       "      <td>17.357143</td>\n",
       "    </tr>\n",
       "  </tbody>\n",
       "</table>\n",
       "</div>"
      ],
      "text/plain": [
       "        act_1_art   dra_1_art   act_2_gen   dra_2_gen   act_3_art   dra_3_art  \\\n",
       "count  293.000000  293.000000  293.000000  293.000000  293.000000  293.000000   \n",
       "mean     5.747440    5.276451    6.174061    5.242321    5.904437    5.754266   \n",
       "std      2.462952    2.552602    2.345298    2.443747    2.398147    2.407400   \n",
       "min      1.000000    1.000000    1.000000    1.000000    1.000000    1.000000   \n",
       "25%      4.000000    3.000000    5.000000    3.000000    4.000000    4.000000   \n",
       "50%      6.000000    5.000000    7.000000    5.000000    6.000000    6.000000   \n",
       "75%      8.000000    7.000000    8.000000    7.000000    8.000000    8.000000   \n",
       "max     10.000000   10.000000   10.000000   10.000000   10.000000   10.000000   \n",
       "\n",
       "        act_4_gen   dra_4_gen        mean         sum         var  \n",
       "count  293.000000  293.000000  293.000000  293.000000  293.000000  \n",
       "mean     5.259386    5.470990    5.603669   44.829352    3.661568  \n",
       "std      2.480255    2.420661    1.685572   13.484576    3.092739  \n",
       "min      1.000000    1.000000    1.000000    8.000000    0.000000  \n",
       "25%      3.000000    4.000000    4.625000   37.000000    1.357143  \n",
       "50%      5.000000    6.000000    5.625000   45.000000    2.839286  \n",
       "75%      7.000000    7.000000    6.625000   53.000000    5.142857  \n",
       "max     10.000000   10.000000   10.000000   80.000000   17.357143  "
      ]
     },
     "execution_count": 13,
     "metadata": {},
     "output_type": "execute_result"
    }
   ],
   "source": [
    "data_B_0.describe()"
   ]
  },
  {
   "cell_type": "markdown",
   "metadata": {},
   "source": [
    "#### 변경 후 \n",
    "변경 전 데이터와 달리 [행:min, 열:var] variance = 0인 항목이 사라졌다는 것을 알 수 있다. "
   ]
  },
  {
   "cell_type": "code",
   "execution_count": 14,
   "metadata": {},
   "outputs": [
    {
     "data": {
      "text/html": [
       "<div>\n",
       "<style scoped>\n",
       "    .dataframe tbody tr th:only-of-type {\n",
       "        vertical-align: middle;\n",
       "    }\n",
       "\n",
       "    .dataframe tbody tr th {\n",
       "        vertical-align: top;\n",
       "    }\n",
       "\n",
       "    .dataframe thead th {\n",
       "        text-align: right;\n",
       "    }\n",
       "</style>\n",
       "<table border=\"1\" class=\"dataframe\">\n",
       "  <thead>\n",
       "    <tr style=\"text-align: right;\">\n",
       "      <th></th>\n",
       "      <th>act_1_gen</th>\n",
       "      <th>dra_1_gen</th>\n",
       "      <th>act_2_art</th>\n",
       "      <th>dra_2_art</th>\n",
       "      <th>act_3_gen</th>\n",
       "      <th>dra_3_gen</th>\n",
       "      <th>act_4_art</th>\n",
       "      <th>dra_4_art</th>\n",
       "      <th>mean</th>\n",
       "      <th>sum</th>\n",
       "      <th>var</th>\n",
       "    </tr>\n",
       "  </thead>\n",
       "  <tbody>\n",
       "    <tr>\n",
       "      <th>count</th>\n",
       "      <td>287.000000</td>\n",
       "      <td>287.000000</td>\n",
       "      <td>287.000000</td>\n",
       "      <td>287.000000</td>\n",
       "      <td>287.000000</td>\n",
       "      <td>287.000000</td>\n",
       "      <td>287.000000</td>\n",
       "      <td>287.000000</td>\n",
       "      <td>287.000000</td>\n",
       "      <td>287.000000</td>\n",
       "      <td>287.000000</td>\n",
       "    </tr>\n",
       "    <tr>\n",
       "      <th>mean</th>\n",
       "      <td>5.560976</td>\n",
       "      <td>5.101045</td>\n",
       "      <td>5.452962</td>\n",
       "      <td>5.243902</td>\n",
       "      <td>5.571429</td>\n",
       "      <td>5.595819</td>\n",
       "      <td>5.052265</td>\n",
       "      <td>5.369338</td>\n",
       "      <td>5.368467</td>\n",
       "      <td>42.947735</td>\n",
       "      <td>3.826531</td>\n",
       "    </tr>\n",
       "    <tr>\n",
       "      <th>std</th>\n",
       "      <td>2.595506</td>\n",
       "      <td>2.375626</td>\n",
       "      <td>2.343802</td>\n",
       "      <td>2.361497</td>\n",
       "      <td>2.400674</td>\n",
       "      <td>2.582292</td>\n",
       "      <td>2.278062</td>\n",
       "      <td>2.421386</td>\n",
       "      <td>1.596102</td>\n",
       "      <td>12.768818</td>\n",
       "      <td>2.945088</td>\n",
       "    </tr>\n",
       "    <tr>\n",
       "      <th>min</th>\n",
       "      <td>1.000000</td>\n",
       "      <td>1.000000</td>\n",
       "      <td>1.000000</td>\n",
       "      <td>1.000000</td>\n",
       "      <td>1.000000</td>\n",
       "      <td>1.000000</td>\n",
       "      <td>1.000000</td>\n",
       "      <td>1.000000</td>\n",
       "      <td>1.250000</td>\n",
       "      <td>10.000000</td>\n",
       "      <td>0.125000</td>\n",
       "    </tr>\n",
       "    <tr>\n",
       "      <th>25%</th>\n",
       "      <td>3.000000</td>\n",
       "      <td>3.000000</td>\n",
       "      <td>4.000000</td>\n",
       "      <td>3.000000</td>\n",
       "      <td>4.000000</td>\n",
       "      <td>3.000000</td>\n",
       "      <td>3.000000</td>\n",
       "      <td>4.000000</td>\n",
       "      <td>4.375000</td>\n",
       "      <td>35.000000</td>\n",
       "      <td>1.553571</td>\n",
       "    </tr>\n",
       "    <tr>\n",
       "      <th>50%</th>\n",
       "      <td>6.000000</td>\n",
       "      <td>5.000000</td>\n",
       "      <td>6.000000</td>\n",
       "      <td>6.000000</td>\n",
       "      <td>6.000000</td>\n",
       "      <td>6.000000</td>\n",
       "      <td>5.000000</td>\n",
       "      <td>5.000000</td>\n",
       "      <td>5.375000</td>\n",
       "      <td>43.000000</td>\n",
       "      <td>3.142857</td>\n",
       "    </tr>\n",
       "    <tr>\n",
       "      <th>75%</th>\n",
       "      <td>7.000000</td>\n",
       "      <td>7.000000</td>\n",
       "      <td>7.000000</td>\n",
       "      <td>7.000000</td>\n",
       "      <td>7.000000</td>\n",
       "      <td>8.000000</td>\n",
       "      <td>7.000000</td>\n",
       "      <td>7.000000</td>\n",
       "      <td>6.375000</td>\n",
       "      <td>51.000000</td>\n",
       "      <td>5.205357</td>\n",
       "    </tr>\n",
       "    <tr>\n",
       "      <th>max</th>\n",
       "      <td>10.000000</td>\n",
       "      <td>10.000000</td>\n",
       "      <td>10.000000</td>\n",
       "      <td>10.000000</td>\n",
       "      <td>10.000000</td>\n",
       "      <td>10.000000</td>\n",
       "      <td>10.000000</td>\n",
       "      <td>10.000000</td>\n",
       "      <td>9.875000</td>\n",
       "      <td>79.000000</td>\n",
       "      <td>17.267857</td>\n",
       "    </tr>\n",
       "  </tbody>\n",
       "</table>\n",
       "</div>"
      ],
      "text/plain": [
       "        act_1_gen   dra_1_gen   act_2_art   dra_2_art   act_3_gen   dra_3_gen  \\\n",
       "count  287.000000  287.000000  287.000000  287.000000  287.000000  287.000000   \n",
       "mean     5.560976    5.101045    5.452962    5.243902    5.571429    5.595819   \n",
       "std      2.595506    2.375626    2.343802    2.361497    2.400674    2.582292   \n",
       "min      1.000000    1.000000    1.000000    1.000000    1.000000    1.000000   \n",
       "25%      3.000000    3.000000    4.000000    3.000000    4.000000    3.000000   \n",
       "50%      6.000000    5.000000    6.000000    6.000000    6.000000    6.000000   \n",
       "75%      7.000000    7.000000    7.000000    7.000000    7.000000    8.000000   \n",
       "max     10.000000   10.000000   10.000000   10.000000   10.000000   10.000000   \n",
       "\n",
       "        act_4_art   dra_4_art        mean         sum         var  \n",
       "count  287.000000  287.000000  287.000000  287.000000  287.000000  \n",
       "mean     5.052265    5.369338    5.368467   42.947735    3.826531  \n",
       "std      2.278062    2.421386    1.596102   12.768818    2.945088  \n",
       "min      1.000000    1.000000    1.250000   10.000000    0.125000  \n",
       "25%      3.000000    4.000000    4.375000   35.000000    1.553571  \n",
       "50%      5.000000    5.000000    5.375000   43.000000    3.142857  \n",
       "75%      7.000000    7.000000    6.375000   51.000000    5.205357  \n",
       "max     10.000000   10.000000    9.875000   79.000000   17.267857  "
      ]
     },
     "execution_count": 14,
     "metadata": {},
     "output_type": "execute_result"
    }
   ],
   "source": [
    "data_A.describe()"
   ]
  },
  {
   "cell_type": "code",
   "execution_count": 15,
   "metadata": {},
   "outputs": [
    {
     "data": {
      "text/html": [
       "<div>\n",
       "<style scoped>\n",
       "    .dataframe tbody tr th:only-of-type {\n",
       "        vertical-align: middle;\n",
       "    }\n",
       "\n",
       "    .dataframe tbody tr th {\n",
       "        vertical-align: top;\n",
       "    }\n",
       "\n",
       "    .dataframe thead th {\n",
       "        text-align: right;\n",
       "    }\n",
       "</style>\n",
       "<table border=\"1\" class=\"dataframe\">\n",
       "  <thead>\n",
       "    <tr style=\"text-align: right;\">\n",
       "      <th></th>\n",
       "      <th>act_1_art</th>\n",
       "      <th>dra_1_art</th>\n",
       "      <th>act_2_gen</th>\n",
       "      <th>dra_2_gen</th>\n",
       "      <th>act_3_art</th>\n",
       "      <th>dra_3_art</th>\n",
       "      <th>act_4_gen</th>\n",
       "      <th>dra_4_gen</th>\n",
       "      <th>mean</th>\n",
       "      <th>sum</th>\n",
       "      <th>var</th>\n",
       "    </tr>\n",
       "  </thead>\n",
       "  <tbody>\n",
       "    <tr>\n",
       "      <th>count</th>\n",
       "      <td>285.000000</td>\n",
       "      <td>285.000000</td>\n",
       "      <td>285.000000</td>\n",
       "      <td>285.000000</td>\n",
       "      <td>285.000000</td>\n",
       "      <td>285.000000</td>\n",
       "      <td>285.000000</td>\n",
       "      <td>285.000000</td>\n",
       "      <td>285.000000</td>\n",
       "      <td>285.000000</td>\n",
       "      <td>285.000000</td>\n",
       "    </tr>\n",
       "    <tr>\n",
       "      <th>mean</th>\n",
       "      <td>5.712281</td>\n",
       "      <td>5.228070</td>\n",
       "      <td>6.150877</td>\n",
       "      <td>5.192982</td>\n",
       "      <td>5.873684</td>\n",
       "      <td>5.719298</td>\n",
       "      <td>5.210526</td>\n",
       "      <td>5.428070</td>\n",
       "      <td>5.564474</td>\n",
       "      <td>44.515789</td>\n",
       "      <td>3.764348</td>\n",
       "    </tr>\n",
       "    <tr>\n",
       "      <th>std</th>\n",
       "      <td>2.409201</td>\n",
       "      <td>2.495189</td>\n",
       "      <td>2.290913</td>\n",
       "      <td>2.379775</td>\n",
       "      <td>2.343295</td>\n",
       "      <td>2.350864</td>\n",
       "      <td>2.418654</td>\n",
       "      <td>2.360007</td>\n",
       "      <td>1.573975</td>\n",
       "      <td>12.591801</td>\n",
       "      <td>3.073469</td>\n",
       "    </tr>\n",
       "    <tr>\n",
       "      <th>min</th>\n",
       "      <td>1.000000</td>\n",
       "      <td>1.000000</td>\n",
       "      <td>1.000000</td>\n",
       "      <td>1.000000</td>\n",
       "      <td>1.000000</td>\n",
       "      <td>1.000000</td>\n",
       "      <td>1.000000</td>\n",
       "      <td>1.000000</td>\n",
       "      <td>1.500000</td>\n",
       "      <td>12.000000</td>\n",
       "      <td>0.125000</td>\n",
       "    </tr>\n",
       "    <tr>\n",
       "      <th>25%</th>\n",
       "      <td>4.000000</td>\n",
       "      <td>3.000000</td>\n",
       "      <td>5.000000</td>\n",
       "      <td>3.000000</td>\n",
       "      <td>4.000000</td>\n",
       "      <td>4.000000</td>\n",
       "      <td>3.000000</td>\n",
       "      <td>4.000000</td>\n",
       "      <td>4.625000</td>\n",
       "      <td>37.000000</td>\n",
       "      <td>1.428571</td>\n",
       "    </tr>\n",
       "    <tr>\n",
       "      <th>50%</th>\n",
       "      <td>6.000000</td>\n",
       "      <td>5.000000</td>\n",
       "      <td>6.000000</td>\n",
       "      <td>5.000000</td>\n",
       "      <td>6.000000</td>\n",
       "      <td>6.000000</td>\n",
       "      <td>5.000000</td>\n",
       "      <td>6.000000</td>\n",
       "      <td>5.500000</td>\n",
       "      <td>44.000000</td>\n",
       "      <td>2.839286</td>\n",
       "    </tr>\n",
       "    <tr>\n",
       "      <th>75%</th>\n",
       "      <td>8.000000</td>\n",
       "      <td>7.000000</td>\n",
       "      <td>8.000000</td>\n",
       "      <td>7.000000</td>\n",
       "      <td>8.000000</td>\n",
       "      <td>7.000000</td>\n",
       "      <td>7.000000</td>\n",
       "      <td>7.000000</td>\n",
       "      <td>6.625000</td>\n",
       "      <td>53.000000</td>\n",
       "      <td>5.357143</td>\n",
       "    </tr>\n",
       "    <tr>\n",
       "      <th>max</th>\n",
       "      <td>10.000000</td>\n",
       "      <td>10.000000</td>\n",
       "      <td>10.000000</td>\n",
       "      <td>10.000000</td>\n",
       "      <td>10.000000</td>\n",
       "      <td>10.000000</td>\n",
       "      <td>10.000000</td>\n",
       "      <td>10.000000</td>\n",
       "      <td>9.750000</td>\n",
       "      <td>78.000000</td>\n",
       "      <td>17.357143</td>\n",
       "    </tr>\n",
       "  </tbody>\n",
       "</table>\n",
       "</div>"
      ],
      "text/plain": [
       "        act_1_art   dra_1_art   act_2_gen   dra_2_gen   act_3_art   dra_3_art  \\\n",
       "count  285.000000  285.000000  285.000000  285.000000  285.000000  285.000000   \n",
       "mean     5.712281    5.228070    6.150877    5.192982    5.873684    5.719298   \n",
       "std      2.409201    2.495189    2.290913    2.379775    2.343295    2.350864   \n",
       "min      1.000000    1.000000    1.000000    1.000000    1.000000    1.000000   \n",
       "25%      4.000000    3.000000    5.000000    3.000000    4.000000    4.000000   \n",
       "50%      6.000000    5.000000    6.000000    5.000000    6.000000    6.000000   \n",
       "75%      8.000000    7.000000    8.000000    7.000000    8.000000    7.000000   \n",
       "max     10.000000   10.000000   10.000000   10.000000   10.000000   10.000000   \n",
       "\n",
       "        act_4_gen   dra_4_gen        mean         sum         var  \n",
       "count  285.000000  285.000000  285.000000  285.000000  285.000000  \n",
       "mean     5.210526    5.428070    5.564474   44.515789    3.764348  \n",
       "std      2.418654    2.360007    1.573975   12.591801    3.073469  \n",
       "min      1.000000    1.000000    1.500000   12.000000    0.125000  \n",
       "25%      3.000000    4.000000    4.625000   37.000000    1.428571  \n",
       "50%      5.000000    6.000000    5.500000   44.000000    2.839286  \n",
       "75%      7.000000    7.000000    6.625000   53.000000    5.357143  \n",
       "max     10.000000   10.000000    9.750000   78.000000   17.357143  "
      ]
     },
     "execution_count": 15,
     "metadata": {},
     "output_type": "execute_result"
    }
   ],
   "source": [
    "data_B.describe()"
   ]
  },
  {
   "cell_type": "code",
   "execution_count": 16,
   "metadata": {},
   "outputs": [
    {
     "name": "stdout",
     "output_type": "stream",
     "text": [
      "A - 제거 전\n"
     ]
    },
    {
     "data": {
      "image/png": "[encoded data removed]",
      "text/plain": [
       "<Figure size 432x288 with 1 Axes>"
      ]
     },
     "metadata": {
      "needs_background": "light"
     },
     "output_type": "display_data"
    }
   ],
   "source": [
    "print('A - 제거 전')\n",
    "ax = sns.boxplot(x=data_A_0['mean'])\n",
    "ax.set_xlabel('응답자별 평균 점수')\n",
    "plt.show()"
   ]
  },
  {
   "cell_type": "code",
   "execution_count": 17,
   "metadata": {},
   "outputs": [
    {
     "name": "stdout",
     "output_type": "stream",
     "text": [
      "B - 제거 전\n"
     ]
    },
    {
     "data": {
      "image/png": "[encoded data removed]",
      "text/plain": [
       "<Figure size 432x288 with 1 Axes>"
      ]
     },
     "metadata": {
      "needs_background": "light"
     },
     "output_type": "display_data"
    }
   ],
   "source": [
    "print('B - 제거 전')\n",
    "ax = sns.boxplot(x=data_B_0['sum'])\n",
    "ax.set_xlabel('응답자별 평균 점수')\n",
    "plt.show()"
   ]
  },
  {
   "cell_type": "code",
   "execution_count": 18,
   "metadata": {},
   "outputs": [
    {
     "name": "stdout",
     "output_type": "stream",
     "text": [
      "A - 제거 후\n"
     ]
    },
    {
     "data": {
      "image/png": "[encoded data removed]",
      "text/plain": [
       "<Figure size 432x288 with 1 Axes>"
      ]
     },
     "metadata": {
      "needs_background": "light"
     },
     "output_type": "display_data"
    }
   ],
   "source": [
    "print('A - 제거 후')\n",
    "ax = sns.boxplot(x=data_A['sum'], color='green')\n",
    "ax.set_xlabel('응답자별 평균 점수')\n",
    "plt.show()"
   ]
  },
  {
   "cell_type": "code",
   "execution_count": 19,
   "metadata": {},
   "outputs": [
    {
     "name": "stdout",
     "output_type": "stream",
     "text": [
      "B - 제거 후\n"
     ]
    },
    {
     "data": {
      "image/png": "[encoded data removed]",
      "text/plain": [
       "<Figure size 432x288 with 1 Axes>"
      ]
     },
     "metadata": {
      "needs_background": "light"
     },
     "output_type": "display_data"
    }
   ],
   "source": [
    "print('B - 제거 후')\n",
    "ax = sns.boxplot(x=data_B['sum'], color='green')\n",
    "ax.set_xlabel('응답자별 평균 점수')\n",
    "plt.show()"
   ]
  },
  {
   "cell_type": "code",
   "execution_count": 20,
   "metadata": {},
   "outputs": [
    {
     "name": "stdout",
     "output_type": "stream",
     "text": [
      "제거 전\n",
      "그룹A: 288 명\n",
      "그룹B: 293 명\n",
      "총: 581 명\n",
      "제거 후\n",
      "그룹A: 287 명\n",
      "그룹B: 285 명\n",
      "총: 572 명\n"
     ]
    }
   ],
   "source": [
    "# 무성의 응답자 제거 전/후\n",
    "print('제거 전')\n",
    "print('그룹A:', len(data_A_0),'명')\n",
    "print('그룹B:', len(data_B_0),'명')\n",
    "print('총:', len(data_A_0)+len(data_B_0),'명')\n",
    "print('제거 후')\n",
    "print('그룹A:', len(data_A),'명')\n",
    "print('그룹B:', len(data_B),'명')\n",
    "print('총:', len(data_A)+len(data_B),'명')"
   ]
  },
  {
   "cell_type": "code",
   "execution_count": 21,
   "metadata": {},
   "outputs": [],
   "source": [
    "file_path = './'\n",
    "file_name_A = os.path.join(file_path, '20191208_all_data_final_A_1.xlsx')\n",
    "file_name_B = os.path.join(file_path, '20191208_all_data_final_B_1.xlsx')\n",
    "\n",
    "\n",
    "data_A.to_csv(file_name_A, encoding='utf-8', index=False)\n",
    "data_B.to_csv(file_name_B, encoding='utf-8', index=False)"
   ]
  },
  {
   "cell_type": "markdown",
   "metadata": {},
   "source": [
    "### 연령별 분포"
   ]
  },
  {
   "cell_type": "code",
   "execution_count": 22,
   "metadata": {},
   "outputs": [
    {
     "name": "stderr",
     "output_type": "stream",
     "text": [
      "/home/yun/.local/lib/python3.6/site-packages/ipykernel_launcher.py:3: FutureWarning: Sorting because non-concatenation axis is not aligned. A future version\n",
      "of pandas will change to not sort by default.\n",
      "\n",
      "To accept the future behavior, pass 'sort=False'.\n",
      "\n",
      "To retain the current behavior and silence the warning, pass 'sort=True'.\n",
      "\n",
      "  This is separate from the ipykernel package so we can avoid doing imports until\n",
      "/home/yun/.local/lib/python3.6/site-packages/ipykernel_launcher.py:6: FutureWarning: Sorting because non-concatenation axis is not aligned. A future version\n",
      "of pandas will change to not sort by default.\n",
      "\n",
      "To accept the future behavior, pass 'sort=False'.\n",
      "\n",
      "To retain the current behavior and silence the warning, pass 'sort=True'.\n",
      "\n",
      "  \n"
     ]
    }
   ],
   "source": [
    "data_art = pd.concat([data_A[[\"성별\", \"나이\"]+[\"act_2_art\", \"dra_2_art\", \"act_4_art\", \"dra_4_art\"]], \n",
    "                      data_B[[\"성별\", \"나이\"]+[\"act_1_art\", \"dra_1_art\", \"act_3_art\", \"dra_3_art\"]]],\n",
    "                    ignore_index = True)\n",
    "data_gen = pd.concat([data_A[[\"성별\", \"나이\"]+[\"act_1_gen\", \"dra_1_gen\", \"act_3_gen\", \"dra_3_gen\" ]], \n",
    "                      data_B[[\"성별\", \"나이\"]+[\"act_2_gen\", \"dra_2_gen\", \"act_4_gen\", \"dra_4_gen\" ]]],\n",
    "                    ignore_index = True)\n",
    "data_art['mean'] = data_art[data_art_col].mean(axis = 1)\n",
    "data_gen['mean'] = data_gen[data_gen_col].mean(axis = 1)"
   ]
  },
  {
   "cell_type": "code",
   "execution_count": 23,
   "metadata": {},
   "outputs": [
    {
     "data": {
      "text/html": [
       "<div>\n",
       "<style scoped>\n",
       "    .dataframe tbody tr th:only-of-type {\n",
       "        vertical-align: middle;\n",
       "    }\n",
       "\n",
       "    .dataframe tbody tr th {\n",
       "        vertical-align: top;\n",
       "    }\n",
       "\n",
       "    .dataframe thead tr th {\n",
       "        text-align: left;\n",
       "    }\n",
       "\n",
       "    .dataframe thead tr:last-of-type th {\n",
       "        text-align: right;\n",
       "    }\n",
       "</style>\n",
       "<table border=\"1\" class=\"dataframe\">\n",
       "  <thead>\n",
       "    <tr>\n",
       "      <th></th>\n",
       "      <th colspan=\"8\" halign=\"left\">act_1_gen</th>\n",
       "      <th colspan=\"2\" halign=\"left\">act_2_gen</th>\n",
       "      <th>...</th>\n",
       "      <th colspan=\"2\" halign=\"left\">dra_4_gen</th>\n",
       "      <th colspan=\"8\" halign=\"left\">mean</th>\n",
       "    </tr>\n",
       "    <tr>\n",
       "      <th></th>\n",
       "      <th>count</th>\n",
       "      <th>mean</th>\n",
       "      <th>std</th>\n",
       "      <th>min</th>\n",
       "      <th>25%</th>\n",
       "      <th>50%</th>\n",
       "      <th>75%</th>\n",
       "      <th>max</th>\n",
       "      <th>count</th>\n",
       "      <th>mean</th>\n",
       "      <th>...</th>\n",
       "      <th>75%</th>\n",
       "      <th>max</th>\n",
       "      <th>count</th>\n",
       "      <th>mean</th>\n",
       "      <th>std</th>\n",
       "      <th>min</th>\n",
       "      <th>25%</th>\n",
       "      <th>50%</th>\n",
       "      <th>75%</th>\n",
       "      <th>max</th>\n",
       "    </tr>\n",
       "    <tr>\n",
       "      <th>나이</th>\n",
       "      <th></th>\n",
       "      <th></th>\n",
       "      <th></th>\n",
       "      <th></th>\n",
       "      <th></th>\n",
       "      <th></th>\n",
       "      <th></th>\n",
       "      <th></th>\n",
       "      <th></th>\n",
       "      <th></th>\n",
       "      <th></th>\n",
       "      <th></th>\n",
       "      <th></th>\n",
       "      <th></th>\n",
       "      <th></th>\n",
       "      <th></th>\n",
       "      <th></th>\n",
       "      <th></th>\n",
       "      <th></th>\n",
       "      <th></th>\n",
       "      <th></th>\n",
       "    </tr>\n",
       "  </thead>\n",
       "  <tbody>\n",
       "    <tr>\n",
       "      <th>10대</th>\n",
       "      <td>3.0</td>\n",
       "      <td>4.333333</td>\n",
       "      <td>2.516611</td>\n",
       "      <td>2.0</td>\n",
       "      <td>3.00</td>\n",
       "      <td>4.0</td>\n",
       "      <td>5.5</td>\n",
       "      <td>7.0</td>\n",
       "      <td>8.0</td>\n",
       "      <td>6.750000</td>\n",
       "      <td>...</td>\n",
       "      <td>7.75</td>\n",
       "      <td>10.0</td>\n",
       "      <td>11.0</td>\n",
       "      <td>6.045455</td>\n",
       "      <td>1.886856</td>\n",
       "      <td>4.50</td>\n",
       "      <td>4.7500</td>\n",
       "      <td>5.000</td>\n",
       "      <td>6.3750</td>\n",
       "      <td>9.75</td>\n",
       "    </tr>\n",
       "    <tr>\n",
       "      <th>20대</th>\n",
       "      <td>88.0</td>\n",
       "      <td>5.363636</td>\n",
       "      <td>2.635661</td>\n",
       "      <td>1.0</td>\n",
       "      <td>3.00</td>\n",
       "      <td>5.0</td>\n",
       "      <td>7.0</td>\n",
       "      <td>10.0</td>\n",
       "      <td>78.0</td>\n",
       "      <td>5.948718</td>\n",
       "      <td>...</td>\n",
       "      <td>7.00</td>\n",
       "      <td>10.0</td>\n",
       "      <td>166.0</td>\n",
       "      <td>5.277108</td>\n",
       "      <td>1.677169</td>\n",
       "      <td>1.25</td>\n",
       "      <td>4.5000</td>\n",
       "      <td>5.500</td>\n",
       "      <td>6.4375</td>\n",
       "      <td>10.00</td>\n",
       "    </tr>\n",
       "    <tr>\n",
       "      <th>30대</th>\n",
       "      <td>114.0</td>\n",
       "      <td>5.578947</td>\n",
       "      <td>2.610038</td>\n",
       "      <td>1.0</td>\n",
       "      <td>3.00</td>\n",
       "      <td>6.0</td>\n",
       "      <td>7.0</td>\n",
       "      <td>10.0</td>\n",
       "      <td>104.0</td>\n",
       "      <td>6.028846</td>\n",
       "      <td>...</td>\n",
       "      <td>7.00</td>\n",
       "      <td>10.0</td>\n",
       "      <td>218.0</td>\n",
       "      <td>5.457569</td>\n",
       "      <td>1.675137</td>\n",
       "      <td>1.50</td>\n",
       "      <td>4.5000</td>\n",
       "      <td>5.500</td>\n",
       "      <td>6.5000</td>\n",
       "      <td>9.50</td>\n",
       "    </tr>\n",
       "    <tr>\n",
       "      <th>40대</th>\n",
       "      <td>61.0</td>\n",
       "      <td>5.590164</td>\n",
       "      <td>2.376111</td>\n",
       "      <td>1.0</td>\n",
       "      <td>4.00</td>\n",
       "      <td>6.0</td>\n",
       "      <td>7.0</td>\n",
       "      <td>10.0</td>\n",
       "      <td>76.0</td>\n",
       "      <td>6.421053</td>\n",
       "      <td>...</td>\n",
       "      <td>7.00</td>\n",
       "      <td>10.0</td>\n",
       "      <td>137.0</td>\n",
       "      <td>5.547445</td>\n",
       "      <td>1.812825</td>\n",
       "      <td>1.00</td>\n",
       "      <td>4.2500</td>\n",
       "      <td>5.750</td>\n",
       "      <td>6.7500</td>\n",
       "      <td>10.00</td>\n",
       "    </tr>\n",
       "    <tr>\n",
       "      <th>50대</th>\n",
       "      <td>17.0</td>\n",
       "      <td>6.529412</td>\n",
       "      <td>2.981561</td>\n",
       "      <td>1.0</td>\n",
       "      <td>5.00</td>\n",
       "      <td>8.0</td>\n",
       "      <td>8.0</td>\n",
       "      <td>10.0</td>\n",
       "      <td>17.0</td>\n",
       "      <td>6.882353</td>\n",
       "      <td>...</td>\n",
       "      <td>9.00</td>\n",
       "      <td>10.0</td>\n",
       "      <td>34.0</td>\n",
       "      <td>6.095588</td>\n",
       "      <td>1.959838</td>\n",
       "      <td>1.00</td>\n",
       "      <td>5.1875</td>\n",
       "      <td>6.375</td>\n",
       "      <td>7.5000</td>\n",
       "      <td>8.50</td>\n",
       "    </tr>\n",
       "    <tr>\n",
       "      <th>60대</th>\n",
       "      <td>4.0</td>\n",
       "      <td>5.750000</td>\n",
       "      <td>3.403430</td>\n",
       "      <td>1.0</td>\n",
       "      <td>4.75</td>\n",
       "      <td>6.5</td>\n",
       "      <td>7.5</td>\n",
       "      <td>9.0</td>\n",
       "      <td>2.0</td>\n",
       "      <td>1.500000</td>\n",
       "      <td>...</td>\n",
       "      <td>7.00</td>\n",
       "      <td>9.0</td>\n",
       "      <td>6.0</td>\n",
       "      <td>5.500000</td>\n",
       "      <td>2.509980</td>\n",
       "      <td>1.75</td>\n",
       "      <td>4.0000</td>\n",
       "      <td>5.875</td>\n",
       "      <td>7.3750</td>\n",
       "      <td>8.25</td>\n",
       "    </tr>\n",
       "  </tbody>\n",
       "</table>\n",
       "<p>6 rows × 72 columns</p>\n",
       "</div>"
      ],
      "text/plain": [
       "    act_1_gen                                                act_2_gen  \\\n",
       "        count      mean       std  min   25%  50%  75%   max     count   \n",
       "나이                                                                       \n",
       "10대       3.0  4.333333  2.516611  2.0  3.00  4.0  5.5   7.0       8.0   \n",
       "20대      88.0  5.363636  2.635661  1.0  3.00  5.0  7.0  10.0      78.0   \n",
       "30대     114.0  5.578947  2.610038  1.0  3.00  6.0  7.0  10.0     104.0   \n",
       "40대      61.0  5.590164  2.376111  1.0  4.00  6.0  7.0  10.0      76.0   \n",
       "50대      17.0  6.529412  2.981561  1.0  5.00  8.0  8.0  10.0      17.0   \n",
       "60대       4.0  5.750000  3.403430  1.0  4.75  6.5  7.5   9.0       2.0   \n",
       "\n",
       "               ... dra_4_gen         mean                                    \\\n",
       "         mean  ...       75%   max  count      mean       std   min     25%   \n",
       "나이             ...                                                            \n",
       "10대  6.750000  ...      7.75  10.0   11.0  6.045455  1.886856  4.50  4.7500   \n",
       "20대  5.948718  ...      7.00  10.0  166.0  5.277108  1.677169  1.25  4.5000   \n",
       "30대  6.028846  ...      7.00  10.0  218.0  5.457569  1.675137  1.50  4.5000   \n",
       "40대  6.421053  ...      7.00  10.0  137.0  5.547445  1.812825  1.00  4.2500   \n",
       "50대  6.882353  ...      9.00  10.0   34.0  6.095588  1.959838  1.00  5.1875   \n",
       "60대  1.500000  ...      7.00   9.0    6.0  5.500000  2.509980  1.75  4.0000   \n",
       "\n",
       "                           \n",
       "       50%     75%    max  \n",
       "나이                         \n",
       "10대  5.000  6.3750   9.75  \n",
       "20대  5.500  6.4375  10.00  \n",
       "30대  5.500  6.5000   9.50  \n",
       "40대  5.750  6.7500  10.00  \n",
       "50대  6.375  7.5000   8.50  \n",
       "60대  5.875  7.3750   8.25  \n",
       "\n",
       "[6 rows x 72 columns]"
      ]
     },
     "execution_count": 23,
     "metadata": {},
     "output_type": "execute_result"
    }
   ],
   "source": [
    "data_gen.groupby(['나이']).describe()"
   ]
  },
  {
   "cell_type": "code",
   "execution_count": 24,
   "metadata": {},
   "outputs": [
    {
     "data": {
      "image/png": "[encoded data removed]",
      "text/plain": [
       "<Figure size 432x288 with 1 Axes>"
      ]
     },
     "metadata": {
      "needs_background": "light"
     },
     "output_type": "display_data"
    }
   ],
   "source": [
    "data_gen_gb_age = list(data_gen.groupby(['나이'])['mean'].count())\n",
    "\n",
    "labels = ['10대', '20대', '30대', '40대', '50대','60대']\n",
    "\n",
    "x = np.arange(len(labels))  # the label locations\n",
    "width = 0.7  # the width of the bars\n",
    "\n",
    "fig, ax = plt.subplots(1, 1,  figsize=[6,4])\n",
    "rects1 = ax.bar(x, data_gen_gb_age, width, color = 'darkblue')\n",
    "\n",
    "ax.set_xticks(x)\n",
    "ax.set_xticklabels(labels)\n",
    "ax.set_xlabel('연령별 응답자 수(단위: 명)', fontsize = 13)\n",
    "\n",
    "def autolabel(rects):\n",
    "    \"\"\"Attach a text label above each bar in *rects*, displaying its height.\"\"\"\n",
    "    for rect in rects:\n",
    "        height = rect.get_height()\n",
    "        ax.annotate('{}'.format(height),\n",
    "                    xy=(rect.get_x() + rect.get_width()/2, height),\n",
    "                    xytext=(0, 3),  # 3 points vertical offset\n",
    "                    textcoords=\"offset points\",\n",
    "                    ha='center', va='bottom')\n",
    "\n",
    "\n",
    "autolabel(rects1)\n",
    "\n",
    "fig.tight_layout()\n",
    "plt.ylim(plt.ylim()[0], plt.ylim()[1]*1.1)\n",
    "plt.show()"
   ]
  },
  {
   "cell_type": "code",
   "execution_count": 25,
   "metadata": {},
   "outputs": [
    {
     "data": {
      "text/plain": [
       "성별\n",
       "남성    345\n",
       "여성    227\n",
       "Name: 나이, dtype: int64"
      ]
     },
     "execution_count": 25,
     "metadata": {},
     "output_type": "execute_result"
    }
   ],
   "source": [
    "data_gen.groupby(['성별'])['나이'].count()"
   ]
  },
  {
   "cell_type": "code",
   "execution_count": 26,
   "metadata": {},
   "outputs": [
    {
     "name": "stdout",
     "output_type": "stream",
     "text": [
      "572\n",
      "[0.6031468531468531, 0.3968531468531469]\n"
     ]
    }
   ],
   "source": [
    "print(len(data_gen)) \n",
    "print([i/len(data_gen) for i in list(data_gen.groupby(['성별'])['mean'].count())])"
   ]
  },
  {
   "cell_type": "code",
   "execution_count": 27,
   "metadata": {},
   "outputs": [
    {
     "data": {
      "image/png": "[encoded data removed]",
      "text/plain": [
       "<Figure size 288x288 with 1 Axes>"
      ]
     },
     "metadata": {
      "needs_background": "light"
     },
     "output_type": "display_data"
    }
   ],
   "source": [
    "data_gen_gb_age = list(data_gen.groupby(['성별'])['mean'].count())\n",
    "\n",
    "labels = ['남성', '여성']\n",
    "\n",
    "x = np.arange(len(labels))  # the label locations\n",
    "width = 0.4  # the width of the bars\n",
    "\n",
    "fig, ax = plt.subplots(1, 1,  figsize=[4,4])\n",
    "rects1 = ax.bar(x, data_gen_gb_age, width, color = 'darkgreen')\n",
    "\n",
    "ax.set_xticks(x)\n",
    "ax.set_xticklabels(labels)\n",
    "ax.set_xlabel('성별 응답자 수(단위: 명)', fontsize = 13)\n",
    "\n",
    "def autolabel(rects):\n",
    "    \"\"\"Attach a text label above each bar in *rects*, displaying its height.\"\"\"\n",
    "    for rect in rects:\n",
    "        height = rect.get_height()\n",
    "        ax.annotate('{}'.format(height),\n",
    "                    xy=(rect.get_x() + rect.get_width()/2, height),\n",
    "                    xytext=(0, 3),  # 3 points vertical offset\n",
    "                    textcoords=\"offset points\",\n",
    "                    ha='center', va='bottom')\n",
    "\n",
    "\n",
    "autolabel(rects1)\n",
    "\n",
    "fig.tight_layout()\n",
    "plt.ylim(plt.ylim()[0], plt.ylim()[1]*1.1)\n",
    "plt.show()"
   ]
  },
  {
   "cell_type": "code",
   "execution_count": 28,
   "metadata": {},
   "outputs": [
    {
     "name": "stdout",
     "output_type": "stream",
     "text": [
      "[345, 227]\n",
      "[0.6, 0.4]\n",
      "572\n",
      "1.0\n"
     ]
    }
   ],
   "source": [
    "print(data_gen_gb_age)\n",
    "print([round(i/sum(data_gen_gb_age), 2) for i in data_gen_gb_age])\n",
    "print(sum(data_gen_gb_age))\n",
    "print(sum([round(i/sum(data_gen_gb_age), 2) for i in data_gen_gb_age]))"
   ]
  },
  {
   "cell_type": "markdown",
   "metadata": {},
   "source": [
    "# 분석 \n",
    "1. box plot, distribution plot으로 확인\n",
    "2. 등분산 확인 levene test\n",
    "3. t test "
   ]
  },
  {
   "cell_type": "code",
   "execution_count": 29,
   "metadata": {},
   "outputs": [],
   "source": [
    "class analysis():\n",
    "    def __init__(self, d_a, d_b):\n",
    "        self.change_to_art_gen(d_a, d_b)\n",
    "        self.lev = True\n",
    "        \n",
    "    def change_to_art_gen(self, d_a, d_b):\n",
    "        self.d_art = pd.concat([d_a[['나이', '성별']+[\"act_2_art\", \"dra_2_art\", \"act_4_art\", \"dra_4_art\"]], \n",
    "                                d_b[['나이', '성별']+[\"act_1_art\", \"dra_1_art\", \"act_3_art\", \"dra_3_art\"]]],\n",
    "                                ignore_index = True)\n",
    "        self.d_gen = pd.concat([d_a[['나이', '성별']+[\"act_1_gen\", \"dra_1_gen\", \"act_3_gen\", \"dra_3_gen\" ]],\n",
    "                                d_b[['나이', '성별']+[\"act_2_gen\", \"dra_2_gen\", \"act_4_gen\", \"dra_4_gen\" ]]],\n",
    "                                ignore_index = True)\n",
    "        self.d_art['mean'] = self.d_art.mean(axis = 1)\n",
    "        self.d_gen['mean'] = self.d_gen.mean(axis = 1)\n",
    "    def mean(self):\n",
    "        a = round(self.d_art['mean'].mean(axis = 0), 2)\n",
    "        b = round(self.d_gen['mean'].mean(axis = 0), 2)\n",
    "        print('art:', a)\n",
    "        print('gen:', b)\n",
    "        print('차이: ', round(abs(a-b),2))\n",
    "        \n",
    "    def plt_box(self):\n",
    "        %matplotlib inline\n",
    "\n",
    "        plt.figure(figsize=(6, 6))\n",
    "        plt.grid()\n",
    "        plt.boxplot([self.d_art['mean'], self.d_gen['mean']])\n",
    "        plt.xlabel('art / gen')\n",
    "        plt.ylabel('score')\n",
    "        plt.title('Box Plot')\n",
    "        plt.grid()\n",
    "        plt.show()\n",
    "    \n",
    "    def plt_dist(self, xlabel):\n",
    "        x1 = self.d_art['mean']\n",
    "        x2 = self.d_gen['mean']\n",
    "        ax = sns.distplot(x1,bins = 10, kde=False, fit=sp.stats.norm, label=\"예술\", color='lightcoral')\n",
    "        ax = sns.distplot(x2,bins = 10,  kde=False, fit=sp.stats.norm, label=\"일반\", color='teal')\n",
    "        ax.lines[0].set_linestyle(\":\")\n",
    "        ax.set_xlabel(xlabel)\n",
    "        plt.legend()\n",
    "        plt.show()\n",
    "\n",
    "    def levene_test(self, p = 0.05):\n",
    "        self.lev = True if sp.stats.levene(self.d_art['mean'], self.d_gen['mean']).pvalue >= p else False \n",
    "        return sp.stats.levene(self.d_art['mean'], self.d_gen['mean'])\n",
    "        \n",
    "    def t_test(self,):\n",
    "        tTestResult = sp.stats.ttest_ind(self.d_art['mean'], self.d_gen['mean'], equal_var = self.lev)\n",
    "        print(tTestResult)\n",
    "        return tTestResult\n",
    "    "
   ]
  },
  {
   "cell_type": "markdown",
   "metadata": {},
   "source": [
    "## A, B 그룹 -> generator 에 따른 그룹 \n",
    "평가글 제너레이터에 따라 구분 지어주기. gen, art"
   ]
  },
  {
   "cell_type": "code",
   "execution_count": 30,
   "metadata": {},
   "outputs": [
    {
     "name": "stderr",
     "output_type": "stream",
     "text": [
      "/home/yun/.local/lib/python3.6/site-packages/ipykernel_launcher.py:9: FutureWarning: Sorting because non-concatenation axis is not aligned. A future version\n",
      "of pandas will change to not sort by default.\n",
      "\n",
      "To accept the future behavior, pass 'sort=False'.\n",
      "\n",
      "To retain the current behavior and silence the warning, pass 'sort=True'.\n",
      "\n",
      "  if __name__ == '__main__':\n",
      "/home/yun/.local/lib/python3.6/site-packages/ipykernel_launcher.py:12: FutureWarning: Sorting because non-concatenation axis is not aligned. A future version\n",
      "of pandas will change to not sort by default.\n",
      "\n",
      "To accept the future behavior, pass 'sort=False'.\n",
      "\n",
      "To retain the current behavior and silence the warning, pass 'sort=True'.\n",
      "\n",
      "  if sys.path[0] == '':\n"
     ]
    }
   ],
   "source": [
    "analysis_ab = analysis(data_A, data_B)"
   ]
  },
  {
   "cell_type": "code",
   "execution_count": 31,
   "metadata": {},
   "outputs": [
    {
     "data": {
      "text/html": [
       "<div>\n",
       "<style scoped>\n",
       "    .dataframe tbody tr th:only-of-type {\n",
       "        vertical-align: middle;\n",
       "    }\n",
       "\n",
       "    .dataframe tbody tr th {\n",
       "        vertical-align: top;\n",
       "    }\n",
       "\n",
       "    .dataframe thead th {\n",
       "        text-align: right;\n",
       "    }\n",
       "</style>\n",
       "<table border=\"1\" class=\"dataframe\">\n",
       "  <thead>\n",
       "    <tr style=\"text-align: right;\">\n",
       "      <th></th>\n",
       "      <th>act_1_art</th>\n",
       "      <th>act_2_art</th>\n",
       "      <th>act_3_art</th>\n",
       "      <th>act_4_art</th>\n",
       "      <th>dra_1_art</th>\n",
       "      <th>dra_2_art</th>\n",
       "      <th>dra_3_art</th>\n",
       "      <th>dra_4_art</th>\n",
       "      <th>mean</th>\n",
       "    </tr>\n",
       "  </thead>\n",
       "  <tbody>\n",
       "    <tr>\n",
       "      <th>count</th>\n",
       "      <td>285.000000</td>\n",
       "      <td>287.000000</td>\n",
       "      <td>285.000000</td>\n",
       "      <td>287.000000</td>\n",
       "      <td>285.000000</td>\n",
       "      <td>287.000000</td>\n",
       "      <td>285.000000</td>\n",
       "      <td>287.000000</td>\n",
       "      <td>572.000000</td>\n",
       "    </tr>\n",
       "    <tr>\n",
       "      <th>mean</th>\n",
       "      <td>5.712281</td>\n",
       "      <td>5.452962</td>\n",
       "      <td>5.873684</td>\n",
       "      <td>5.052265</td>\n",
       "      <td>5.228070</td>\n",
       "      <td>5.243902</td>\n",
       "      <td>5.719298</td>\n",
       "      <td>5.369338</td>\n",
       "      <td>5.455857</td>\n",
       "    </tr>\n",
       "    <tr>\n",
       "      <th>std</th>\n",
       "      <td>2.409201</td>\n",
       "      <td>2.343802</td>\n",
       "      <td>2.343295</td>\n",
       "      <td>2.278062</td>\n",
       "      <td>2.495189</td>\n",
       "      <td>2.361497</td>\n",
       "      <td>2.350864</td>\n",
       "      <td>2.421386</td>\n",
       "      <td>1.722837</td>\n",
       "    </tr>\n",
       "    <tr>\n",
       "      <th>min</th>\n",
       "      <td>1.000000</td>\n",
       "      <td>1.000000</td>\n",
       "      <td>1.000000</td>\n",
       "      <td>1.000000</td>\n",
       "      <td>1.000000</td>\n",
       "      <td>1.000000</td>\n",
       "      <td>1.000000</td>\n",
       "      <td>1.000000</td>\n",
       "      <td>1.000000</td>\n",
       "    </tr>\n",
       "    <tr>\n",
       "      <th>25%</th>\n",
       "      <td>4.000000</td>\n",
       "      <td>4.000000</td>\n",
       "      <td>4.000000</td>\n",
       "      <td>3.000000</td>\n",
       "      <td>3.000000</td>\n",
       "      <td>3.000000</td>\n",
       "      <td>4.000000</td>\n",
       "      <td>4.000000</td>\n",
       "      <td>4.500000</td>\n",
       "    </tr>\n",
       "    <tr>\n",
       "      <th>50%</th>\n",
       "      <td>6.000000</td>\n",
       "      <td>6.000000</td>\n",
       "      <td>6.000000</td>\n",
       "      <td>5.000000</td>\n",
       "      <td>5.000000</td>\n",
       "      <td>6.000000</td>\n",
       "      <td>6.000000</td>\n",
       "      <td>5.000000</td>\n",
       "      <td>5.500000</td>\n",
       "    </tr>\n",
       "    <tr>\n",
       "      <th>75%</th>\n",
       "      <td>8.000000</td>\n",
       "      <td>7.000000</td>\n",
       "      <td>8.000000</td>\n",
       "      <td>7.000000</td>\n",
       "      <td>7.000000</td>\n",
       "      <td>7.000000</td>\n",
       "      <td>7.000000</td>\n",
       "      <td>7.000000</td>\n",
       "      <td>6.750000</td>\n",
       "    </tr>\n",
       "    <tr>\n",
       "      <th>max</th>\n",
       "      <td>10.000000</td>\n",
       "      <td>10.000000</td>\n",
       "      <td>10.000000</td>\n",
       "      <td>10.000000</td>\n",
       "      <td>10.000000</td>\n",
       "      <td>10.000000</td>\n",
       "      <td>10.000000</td>\n",
       "      <td>10.000000</td>\n",
       "      <td>10.000000</td>\n",
       "    </tr>\n",
       "  </tbody>\n",
       "</table>\n",
       "</div>"
      ],
      "text/plain": [
       "        act_1_art   act_2_art   act_3_art   act_4_art   dra_1_art   dra_2_art  \\\n",
       "count  285.000000  287.000000  285.000000  287.000000  285.000000  287.000000   \n",
       "mean     5.712281    5.452962    5.873684    5.052265    5.228070    5.243902   \n",
       "std      2.409201    2.343802    2.343295    2.278062    2.495189    2.361497   \n",
       "min      1.000000    1.000000    1.000000    1.000000    1.000000    1.000000   \n",
       "25%      4.000000    4.000000    4.000000    3.000000    3.000000    3.000000   \n",
       "50%      6.000000    6.000000    6.000000    5.000000    5.000000    6.000000   \n",
       "75%      8.000000    7.000000    8.000000    7.000000    7.000000    7.000000   \n",
       "max     10.000000   10.000000   10.000000   10.000000   10.000000   10.000000   \n",
       "\n",
       "        dra_3_art   dra_4_art        mean  \n",
       "count  285.000000  287.000000  572.000000  \n",
       "mean     5.719298    5.369338    5.455857  \n",
       "std      2.350864    2.421386    1.722837  \n",
       "min      1.000000    1.000000    1.000000  \n",
       "25%      4.000000    4.000000    4.500000  \n",
       "50%      6.000000    5.000000    5.500000  \n",
       "75%      7.000000    7.000000    6.750000  \n",
       "max     10.000000   10.000000   10.000000  "
      ]
     },
     "execution_count": 31,
     "metadata": {},
     "output_type": "execute_result"
    }
   ],
   "source": [
    "analysis_ab.d_art.describe()"
   ]
  },
  {
   "cell_type": "code",
   "execution_count": 32,
   "metadata": {},
   "outputs": [
    {
     "data": {
      "text/html": [
       "<div>\n",
       "<style scoped>\n",
       "    .dataframe tbody tr th:only-of-type {\n",
       "        vertical-align: middle;\n",
       "    }\n",
       "\n",
       "    .dataframe tbody tr th {\n",
       "        vertical-align: top;\n",
       "    }\n",
       "\n",
       "    .dataframe thead th {\n",
       "        text-align: right;\n",
       "    }\n",
       "</style>\n",
       "<table border=\"1\" class=\"dataframe\">\n",
       "  <thead>\n",
       "    <tr style=\"text-align: right;\">\n",
       "      <th></th>\n",
       "      <th>act_1_gen</th>\n",
       "      <th>act_2_gen</th>\n",
       "      <th>act_3_gen</th>\n",
       "      <th>act_4_gen</th>\n",
       "      <th>dra_1_gen</th>\n",
       "      <th>dra_2_gen</th>\n",
       "      <th>dra_3_gen</th>\n",
       "      <th>dra_4_gen</th>\n",
       "      <th>mean</th>\n",
       "    </tr>\n",
       "  </thead>\n",
       "  <tbody>\n",
       "    <tr>\n",
       "      <th>count</th>\n",
       "      <td>287.000000</td>\n",
       "      <td>285.000000</td>\n",
       "      <td>287.000000</td>\n",
       "      <td>285.000000</td>\n",
       "      <td>287.000000</td>\n",
       "      <td>285.000000</td>\n",
       "      <td>287.000000</td>\n",
       "      <td>285.000000</td>\n",
       "      <td>572.000000</td>\n",
       "    </tr>\n",
       "    <tr>\n",
       "      <th>mean</th>\n",
       "      <td>5.560976</td>\n",
       "      <td>6.150877</td>\n",
       "      <td>5.571429</td>\n",
       "      <td>5.210526</td>\n",
       "      <td>5.101045</td>\n",
       "      <td>5.192982</td>\n",
       "      <td>5.595819</td>\n",
       "      <td>5.428070</td>\n",
       "      <td>5.476399</td>\n",
       "    </tr>\n",
       "    <tr>\n",
       "      <th>std</th>\n",
       "      <td>2.595506</td>\n",
       "      <td>2.290913</td>\n",
       "      <td>2.400674</td>\n",
       "      <td>2.418654</td>\n",
       "      <td>2.375626</td>\n",
       "      <td>2.379775</td>\n",
       "      <td>2.582292</td>\n",
       "      <td>2.360007</td>\n",
       "      <td>1.744547</td>\n",
       "    </tr>\n",
       "    <tr>\n",
       "      <th>min</th>\n",
       "      <td>1.000000</td>\n",
       "      <td>1.000000</td>\n",
       "      <td>1.000000</td>\n",
       "      <td>1.000000</td>\n",
       "      <td>1.000000</td>\n",
       "      <td>1.000000</td>\n",
       "      <td>1.000000</td>\n",
       "      <td>1.000000</td>\n",
       "      <td>1.000000</td>\n",
       "    </tr>\n",
       "    <tr>\n",
       "      <th>25%</th>\n",
       "      <td>3.000000</td>\n",
       "      <td>5.000000</td>\n",
       "      <td>4.000000</td>\n",
       "      <td>3.000000</td>\n",
       "      <td>3.000000</td>\n",
       "      <td>3.000000</td>\n",
       "      <td>3.000000</td>\n",
       "      <td>4.000000</td>\n",
       "      <td>4.500000</td>\n",
       "    </tr>\n",
       "    <tr>\n",
       "      <th>50%</th>\n",
       "      <td>6.000000</td>\n",
       "      <td>6.000000</td>\n",
       "      <td>6.000000</td>\n",
       "      <td>5.000000</td>\n",
       "      <td>5.000000</td>\n",
       "      <td>5.000000</td>\n",
       "      <td>6.000000</td>\n",
       "      <td>6.000000</td>\n",
       "      <td>5.500000</td>\n",
       "    </tr>\n",
       "    <tr>\n",
       "      <th>75%</th>\n",
       "      <td>7.000000</td>\n",
       "      <td>8.000000</td>\n",
       "      <td>7.000000</td>\n",
       "      <td>7.000000</td>\n",
       "      <td>7.000000</td>\n",
       "      <td>7.000000</td>\n",
       "      <td>8.000000</td>\n",
       "      <td>7.000000</td>\n",
       "      <td>6.750000</td>\n",
       "    </tr>\n",
       "    <tr>\n",
       "      <th>max</th>\n",
       "      <td>10.000000</td>\n",
       "      <td>10.000000</td>\n",
       "      <td>10.000000</td>\n",
       "      <td>10.000000</td>\n",
       "      <td>10.000000</td>\n",
       "      <td>10.000000</td>\n",
       "      <td>10.000000</td>\n",
       "      <td>10.000000</td>\n",
       "      <td>10.000000</td>\n",
       "    </tr>\n",
       "  </tbody>\n",
       "</table>\n",
       "</div>"
      ],
      "text/plain": [
       "        act_1_gen   act_2_gen   act_3_gen   act_4_gen   dra_1_gen   dra_2_gen  \\\n",
       "count  287.000000  285.000000  287.000000  285.000000  287.000000  285.000000   \n",
       "mean     5.560976    6.150877    5.571429    5.210526    5.101045    5.192982   \n",
       "std      2.595506    2.290913    2.400674    2.418654    2.375626    2.379775   \n",
       "min      1.000000    1.000000    1.000000    1.000000    1.000000    1.000000   \n",
       "25%      3.000000    5.000000    4.000000    3.000000    3.000000    3.000000   \n",
       "50%      6.000000    6.000000    6.000000    5.000000    5.000000    5.000000   \n",
       "75%      7.000000    8.000000    7.000000    7.000000    7.000000    7.000000   \n",
       "max     10.000000   10.000000   10.000000   10.000000   10.000000   10.000000   \n",
       "\n",
       "        dra_3_gen   dra_4_gen        mean  \n",
       "count  287.000000  285.000000  572.000000  \n",
       "mean     5.595819    5.428070    5.476399  \n",
       "std      2.582292    2.360007    1.744547  \n",
       "min      1.000000    1.000000    1.000000  \n",
       "25%      3.000000    4.000000    4.500000  \n",
       "50%      6.000000    6.000000    5.500000  \n",
       "75%      8.000000    7.000000    6.750000  \n",
       "max     10.000000   10.000000   10.000000  "
      ]
     },
     "execution_count": 32,
     "metadata": {},
     "output_type": "execute_result"
    }
   ],
   "source": [
    "analysis_ab.d_gen.describe()"
   ]
  },
  {
   "cell_type": "code",
   "execution_count": 33,
   "metadata": {},
   "outputs": [
    {
     "data": {
      "image/png": "[encoded data removed]",
      "text/plain": [
       "<Figure size 432x432 with 1 Axes>"
      ]
     },
     "metadata": {
      "needs_background": "light"
     },
     "output_type": "display_data"
    }
   ],
   "source": [
    "analysis_ab.plt_box()"
   ]
  },
  {
   "cell_type": "code",
   "execution_count": 34,
   "metadata": {},
   "outputs": [
    {
     "data": {
      "image/png": "[encoded data removed]",
      "text/plain": [
       "<Figure size 432x288 with 1 Axes>"
      ]
     },
     "metadata": {
      "needs_background": "light"
     },
     "output_type": "display_data"
    }
   ],
   "source": [
    "analysis_ab.plt_dist('')"
   ]
  },
  {
   "cell_type": "code",
   "execution_count": 35,
   "metadata": {},
   "outputs": [
    {
     "name": "stdout",
     "output_type": "stream",
     "text": [
      "art: 5.46\n",
      "gen: 5.48\n",
      "차이:  0.02\n"
     ]
    }
   ],
   "source": [
    "analysis_ab.mean()"
   ]
  },
  {
   "cell_type": "code",
   "execution_count": 36,
   "metadata": {},
   "outputs": [
    {
     "data": {
      "text/plain": [
       "0.8718441517053065"
      ]
     },
     "execution_count": 36,
     "metadata": {},
     "output_type": "execute_result"
    }
   ],
   "source": [
    "levene = analysis_ab.levene_test(0.05)\n",
    "levene.pvalue "
   ]
  },
  {
   "cell_type": "code",
   "execution_count": 37,
   "metadata": {},
   "outputs": [
    {
     "name": "stdout",
     "output_type": "stream",
     "text": [
      "Ttest_indResult(statistic=-0.2003754248502694, pvalue=0.8412226547538154)\n"
     ]
    },
    {
     "data": {
      "text/plain": [
       "Ttest_indResult(statistic=-0.2003754248502694, pvalue=0.8412226547538154)"
      ]
     },
     "execution_count": 37,
     "metadata": {},
     "output_type": "execute_result"
    }
   ],
   "source": [
    "analysis_ab.t_test()"
   ]
  },
  {
   "cell_type": "markdown",
   "metadata": {},
   "source": [
    "#### 유의 확률 88%이므로 두 기대값이 같다는 귀무가설을 기각할 수 없음."
   ]
  },
  {
   "cell_type": "markdown",
   "metadata": {},
   "source": [
    "## 성별 - 여성, 남성\n"
   ]
  },
  {
   "cell_type": "code",
   "execution_count": 38,
   "metadata": {},
   "outputs": [],
   "source": [
    "data_w_A = data_A[data_A['성별']=='여성']\n",
    "data_w_B = data_B[data_B['성별']=='여성']\n",
    "data_m_A = data_A[data_A['성별']=='남성']\n",
    "data_m_B = data_B[data_B['성별']=='남성']"
   ]
  },
  {
   "cell_type": "code",
   "execution_count": 39,
   "metadata": {
    "scrolled": true
   },
   "outputs": [
    {
     "name": "stdout",
     "output_type": "stream",
     "text": [
      "data_A 287\n",
      "data_w_A 121\n",
      "data_m_A 166\n",
      "data_B 285\n",
      "data_w_B 106\n",
      "data_m_B 179\n"
     ]
    }
   ],
   "source": [
    "print('data_A', len(data_A))\n",
    "print('data_w_A', len(data_w_A))\n",
    "print('data_m_A', len(data_m_A))\n",
    "print('data_B', len(data_B))\n",
    "print('data_w_B', len(data_w_B))\n",
    "print('data_m_B', len(data_m_B))"
   ]
  },
  {
   "cell_type": "markdown",
   "metadata": {},
   "source": [
    "## 여성인 경우 \n",
    "* 이상치 제거된 상태\n",
    "* 여성인 경우로 한정지어 위의 분석 과정을 진행할 것"
   ]
  },
  {
   "cell_type": "code",
   "execution_count": 40,
   "metadata": {},
   "outputs": [
    {
     "name": "stderr",
     "output_type": "stream",
     "text": [
      "/home/yun/.local/lib/python3.6/site-packages/ipykernel_launcher.py:9: FutureWarning: Sorting because non-concatenation axis is not aligned. A future version\n",
      "of pandas will change to not sort by default.\n",
      "\n",
      "To accept the future behavior, pass 'sort=False'.\n",
      "\n",
      "To retain the current behavior and silence the warning, pass 'sort=True'.\n",
      "\n",
      "  if __name__ == '__main__':\n",
      "/home/yun/.local/lib/python3.6/site-packages/ipykernel_launcher.py:12: FutureWarning: Sorting because non-concatenation axis is not aligned. A future version\n",
      "of pandas will change to not sort by default.\n",
      "\n",
      "To accept the future behavior, pass 'sort=False'.\n",
      "\n",
      "To retain the current behavior and silence the warning, pass 'sort=True'.\n",
      "\n",
      "  if sys.path[0] == '':\n"
     ]
    }
   ],
   "source": [
    "analysis_ab_w = analysis(data_w_A, data_w_B)"
   ]
  },
  {
   "cell_type": "code",
   "execution_count": 41,
   "metadata": {},
   "outputs": [
    {
     "data": {
      "image/png": "[encoded data removed]",
      "text/plain": [
       "<Figure size 432x432 with 1 Axes>"
      ]
     },
     "metadata": {
      "needs_background": "light"
     },
     "output_type": "display_data"
    }
   ],
   "source": [
    "analysis_ab_w.plt_box()"
   ]
  },
  {
   "cell_type": "code",
   "execution_count": 42,
   "metadata": {},
   "outputs": [
    {
     "data": {
      "image/png": "[encoded data removed]",
      "text/plain": [
       "<Figure size 432x288 with 1 Axes>"
      ]
     },
     "metadata": {
      "needs_background": "light"
     },
     "output_type": "display_data"
    }
   ],
   "source": [
    "analysis_ab_w.plt_dist('')"
   ]
  },
  {
   "cell_type": "code",
   "execution_count": 43,
   "metadata": {},
   "outputs": [
    {
     "name": "stdout",
     "output_type": "stream",
     "text": [
      "art: 5.49\n",
      "gen: 5.44\n",
      "차이:  0.05\n"
     ]
    }
   ],
   "source": [
    "analysis_ab_w.mean()"
   ]
  },
  {
   "cell_type": "code",
   "execution_count": 44,
   "metadata": {},
   "outputs": [
    {
     "data": {
      "text/plain": [
       "LeveneResult(statistic=0.22299359113054104, pvalue=0.6369962579137685)"
      ]
     },
     "execution_count": 44,
     "metadata": {},
     "output_type": "execute_result"
    }
   ],
   "source": [
    "analysis_ab_w.levene_test(0.05)"
   ]
  },
  {
   "cell_type": "code",
   "execution_count": 45,
   "metadata": {},
   "outputs": [
    {
     "name": "stdout",
     "output_type": "stream",
     "text": [
      "Ttest_indResult(statistic=0.2806990014099021, pvalue=0.7790697095867302)\n"
     ]
    },
    {
     "data": {
      "text/plain": [
       "Ttest_indResult(statistic=0.2806990014099021, pvalue=0.7790697095867302)"
      ]
     },
     "execution_count": 45,
     "metadata": {},
     "output_type": "execute_result"
    }
   ],
   "source": [
    "analysis_ab_w.t_test()"
   ]
  },
  {
   "cell_type": "markdown",
   "metadata": {},
   "source": [
    "## 남성인 경우\n",
    "* 이상치 제거된 상태\n",
    "* 남성인 경우로 한정지어 위의 분석 과정을 진행할 것"
   ]
  },
  {
   "cell_type": "code",
   "execution_count": 46,
   "metadata": {},
   "outputs": [
    {
     "name": "stderr",
     "output_type": "stream",
     "text": [
      "/home/yun/.local/lib/python3.6/site-packages/ipykernel_launcher.py:9: FutureWarning: Sorting because non-concatenation axis is not aligned. A future version\n",
      "of pandas will change to not sort by default.\n",
      "\n",
      "To accept the future behavior, pass 'sort=False'.\n",
      "\n",
      "To retain the current behavior and silence the warning, pass 'sort=True'.\n",
      "\n",
      "  if __name__ == '__main__':\n",
      "/home/yun/.local/lib/python3.6/site-packages/ipykernel_launcher.py:12: FutureWarning: Sorting because non-concatenation axis is not aligned. A future version\n",
      "of pandas will change to not sort by default.\n",
      "\n",
      "To accept the future behavior, pass 'sort=False'.\n",
      "\n",
      "To retain the current behavior and silence the warning, pass 'sort=True'.\n",
      "\n",
      "  if sys.path[0] == '':\n"
     ]
    }
   ],
   "source": [
    "analysis_ab_m = analysis(data_m_A, data_m_B)"
   ]
  },
  {
   "cell_type": "code",
   "execution_count": 47,
   "metadata": {},
   "outputs": [
    {
     "data": {
      "text/html": [
       "<div>\n",
       "<style scoped>\n",
       "    .dataframe tbody tr th:only-of-type {\n",
       "        vertical-align: middle;\n",
       "    }\n",
       "\n",
       "    .dataframe tbody tr th {\n",
       "        vertical-align: top;\n",
       "    }\n",
       "\n",
       "    .dataframe thead th {\n",
       "        text-align: right;\n",
       "    }\n",
       "</style>\n",
       "<table border=\"1\" class=\"dataframe\">\n",
       "  <thead>\n",
       "    <tr style=\"text-align: right;\">\n",
       "      <th></th>\n",
       "      <th>act_1_art</th>\n",
       "      <th>act_2_art</th>\n",
       "      <th>act_3_art</th>\n",
       "      <th>act_4_art</th>\n",
       "      <th>dra_1_art</th>\n",
       "      <th>dra_2_art</th>\n",
       "      <th>dra_3_art</th>\n",
       "      <th>dra_4_art</th>\n",
       "      <th>mean</th>\n",
       "    </tr>\n",
       "  </thead>\n",
       "  <tbody>\n",
       "    <tr>\n",
       "      <th>count</th>\n",
       "      <td>179.000000</td>\n",
       "      <td>166.000000</td>\n",
       "      <td>179.000000</td>\n",
       "      <td>166.000000</td>\n",
       "      <td>179.000000</td>\n",
       "      <td>166.00000</td>\n",
       "      <td>179.000000</td>\n",
       "      <td>166.000000</td>\n",
       "      <td>345.000000</td>\n",
       "    </tr>\n",
       "    <tr>\n",
       "      <th>mean</th>\n",
       "      <td>5.737430</td>\n",
       "      <td>5.801205</td>\n",
       "      <td>5.893855</td>\n",
       "      <td>5.036145</td>\n",
       "      <td>4.988827</td>\n",
       "      <td>5.13253</td>\n",
       "      <td>5.670391</td>\n",
       "      <td>5.144578</td>\n",
       "      <td>5.431159</td>\n",
       "    </tr>\n",
       "    <tr>\n",
       "      <th>std</th>\n",
       "      <td>2.342403</td>\n",
       "      <td>2.307353</td>\n",
       "      <td>2.274657</td>\n",
       "      <td>2.176713</td>\n",
       "      <td>2.428734</td>\n",
       "      <td>2.32390</td>\n",
       "      <td>2.124698</td>\n",
       "      <td>2.397638</td>\n",
       "      <td>1.629401</td>\n",
       "    </tr>\n",
       "    <tr>\n",
       "      <th>min</th>\n",
       "      <td>1.000000</td>\n",
       "      <td>1.000000</td>\n",
       "      <td>1.000000</td>\n",
       "      <td>1.000000</td>\n",
       "      <td>1.000000</td>\n",
       "      <td>1.00000</td>\n",
       "      <td>1.000000</td>\n",
       "      <td>1.000000</td>\n",
       "      <td>1.000000</td>\n",
       "    </tr>\n",
       "    <tr>\n",
       "      <th>25%</th>\n",
       "      <td>4.000000</td>\n",
       "      <td>4.000000</td>\n",
       "      <td>5.000000</td>\n",
       "      <td>3.250000</td>\n",
       "      <td>3.000000</td>\n",
       "      <td>3.00000</td>\n",
       "      <td>4.000000</td>\n",
       "      <td>4.000000</td>\n",
       "      <td>4.500000</td>\n",
       "    </tr>\n",
       "    <tr>\n",
       "      <th>50%</th>\n",
       "      <td>6.000000</td>\n",
       "      <td>6.000000</td>\n",
       "      <td>6.000000</td>\n",
       "      <td>5.000000</td>\n",
       "      <td>5.000000</td>\n",
       "      <td>5.50000</td>\n",
       "      <td>6.000000</td>\n",
       "      <td>5.000000</td>\n",
       "      <td>5.500000</td>\n",
       "    </tr>\n",
       "    <tr>\n",
       "      <th>75%</th>\n",
       "      <td>8.000000</td>\n",
       "      <td>8.000000</td>\n",
       "      <td>8.000000</td>\n",
       "      <td>7.000000</td>\n",
       "      <td>7.000000</td>\n",
       "      <td>7.00000</td>\n",
       "      <td>7.000000</td>\n",
       "      <td>7.000000</td>\n",
       "      <td>6.750000</td>\n",
       "    </tr>\n",
       "    <tr>\n",
       "      <th>max</th>\n",
       "      <td>10.000000</td>\n",
       "      <td>10.000000</td>\n",
       "      <td>10.000000</td>\n",
       "      <td>10.000000</td>\n",
       "      <td>10.000000</td>\n",
       "      <td>10.00000</td>\n",
       "      <td>10.000000</td>\n",
       "      <td>10.000000</td>\n",
       "      <td>9.500000</td>\n",
       "    </tr>\n",
       "  </tbody>\n",
       "</table>\n",
       "</div>"
      ],
      "text/plain": [
       "        act_1_art   act_2_art   act_3_art   act_4_art   dra_1_art  dra_2_art  \\\n",
       "count  179.000000  166.000000  179.000000  166.000000  179.000000  166.00000   \n",
       "mean     5.737430    5.801205    5.893855    5.036145    4.988827    5.13253   \n",
       "std      2.342403    2.307353    2.274657    2.176713    2.428734    2.32390   \n",
       "min      1.000000    1.000000    1.000000    1.000000    1.000000    1.00000   \n",
       "25%      4.000000    4.000000    5.000000    3.250000    3.000000    3.00000   \n",
       "50%      6.000000    6.000000    6.000000    5.000000    5.000000    5.50000   \n",
       "75%      8.000000    8.000000    8.000000    7.000000    7.000000    7.00000   \n",
       "max     10.000000   10.000000   10.000000   10.000000   10.000000   10.00000   \n",
       "\n",
       "        dra_3_art   dra_4_art        mean  \n",
       "count  179.000000  166.000000  345.000000  \n",
       "mean     5.670391    5.144578    5.431159  \n",
       "std      2.124698    2.397638    1.629401  \n",
       "min      1.000000    1.000000    1.000000  \n",
       "25%      4.000000    4.000000    4.500000  \n",
       "50%      6.000000    5.000000    5.500000  \n",
       "75%      7.000000    7.000000    6.750000  \n",
       "max     10.000000   10.000000    9.500000  "
      ]
     },
     "execution_count": 47,
     "metadata": {},
     "output_type": "execute_result"
    }
   ],
   "source": [
    "analysis_ab_m.d_art.describe()"
   ]
  },
  {
   "cell_type": "code",
   "execution_count": 48,
   "metadata": {},
   "outputs": [
    {
     "data": {
      "text/html": [
       "<div>\n",
       "<style scoped>\n",
       "    .dataframe tbody tr th:only-of-type {\n",
       "        vertical-align: middle;\n",
       "    }\n",
       "\n",
       "    .dataframe tbody tr th {\n",
       "        vertical-align: top;\n",
       "    }\n",
       "\n",
       "    .dataframe thead th {\n",
       "        text-align: right;\n",
       "    }\n",
       "</style>\n",
       "<table border=\"1\" class=\"dataframe\">\n",
       "  <thead>\n",
       "    <tr style=\"text-align: right;\">\n",
       "      <th></th>\n",
       "      <th>act_1_gen</th>\n",
       "      <th>act_2_gen</th>\n",
       "      <th>act_3_gen</th>\n",
       "      <th>act_4_gen</th>\n",
       "      <th>dra_1_gen</th>\n",
       "      <th>dra_2_gen</th>\n",
       "      <th>dra_3_gen</th>\n",
       "      <th>dra_4_gen</th>\n",
       "      <th>mean</th>\n",
       "    </tr>\n",
       "  </thead>\n",
       "  <tbody>\n",
       "    <tr>\n",
       "      <th>count</th>\n",
       "      <td>166.000000</td>\n",
       "      <td>179.000000</td>\n",
       "      <td>166.000000</td>\n",
       "      <td>179.000000</td>\n",
       "      <td>166.000000</td>\n",
       "      <td>179.000000</td>\n",
       "      <td>166.000000</td>\n",
       "      <td>179.000000</td>\n",
       "      <td>345.000000</td>\n",
       "    </tr>\n",
       "    <tr>\n",
       "      <th>mean</th>\n",
       "      <td>5.897590</td>\n",
       "      <td>6.335196</td>\n",
       "      <td>5.680723</td>\n",
       "      <td>5.262570</td>\n",
       "      <td>4.897590</td>\n",
       "      <td>5.050279</td>\n",
       "      <td>5.385542</td>\n",
       "      <td>5.463687</td>\n",
       "      <td>5.497826</td>\n",
       "    </tr>\n",
       "    <tr>\n",
       "      <th>std</th>\n",
       "      <td>2.545655</td>\n",
       "      <td>2.205570</td>\n",
       "      <td>2.348537</td>\n",
       "      <td>2.276725</td>\n",
       "      <td>2.334535</td>\n",
       "      <td>2.301132</td>\n",
       "      <td>2.538581</td>\n",
       "      <td>2.274077</td>\n",
       "      <td>1.634641</td>\n",
       "    </tr>\n",
       "    <tr>\n",
       "      <th>min</th>\n",
       "      <td>1.000000</td>\n",
       "      <td>1.000000</td>\n",
       "      <td>1.000000</td>\n",
       "      <td>1.000000</td>\n",
       "      <td>1.000000</td>\n",
       "      <td>1.000000</td>\n",
       "      <td>1.000000</td>\n",
       "      <td>1.000000</td>\n",
       "      <td>1.000000</td>\n",
       "    </tr>\n",
       "    <tr>\n",
       "      <th>25%</th>\n",
       "      <td>4.000000</td>\n",
       "      <td>5.000000</td>\n",
       "      <td>4.000000</td>\n",
       "      <td>4.000000</td>\n",
       "      <td>3.000000</td>\n",
       "      <td>3.000000</td>\n",
       "      <td>3.000000</td>\n",
       "      <td>4.000000</td>\n",
       "      <td>4.500000</td>\n",
       "    </tr>\n",
       "    <tr>\n",
       "      <th>50%</th>\n",
       "      <td>6.000000</td>\n",
       "      <td>7.000000</td>\n",
       "      <td>6.000000</td>\n",
       "      <td>5.000000</td>\n",
       "      <td>5.000000</td>\n",
       "      <td>5.000000</td>\n",
       "      <td>6.000000</td>\n",
       "      <td>6.000000</td>\n",
       "      <td>5.500000</td>\n",
       "    </tr>\n",
       "    <tr>\n",
       "      <th>75%</th>\n",
       "      <td>8.000000</td>\n",
       "      <td>8.000000</td>\n",
       "      <td>7.000000</td>\n",
       "      <td>7.000000</td>\n",
       "      <td>7.000000</td>\n",
       "      <td>7.000000</td>\n",
       "      <td>7.750000</td>\n",
       "      <td>7.000000</td>\n",
       "      <td>6.500000</td>\n",
       "    </tr>\n",
       "    <tr>\n",
       "      <th>max</th>\n",
       "      <td>10.000000</td>\n",
       "      <td>10.000000</td>\n",
       "      <td>10.000000</td>\n",
       "      <td>10.000000</td>\n",
       "      <td>10.000000</td>\n",
       "      <td>10.000000</td>\n",
       "      <td>10.000000</td>\n",
       "      <td>10.000000</td>\n",
       "      <td>9.500000</td>\n",
       "    </tr>\n",
       "  </tbody>\n",
       "</table>\n",
       "</div>"
      ],
      "text/plain": [
       "        act_1_gen   act_2_gen   act_3_gen   act_4_gen   dra_1_gen   dra_2_gen  \\\n",
       "count  166.000000  179.000000  166.000000  179.000000  166.000000  179.000000   \n",
       "mean     5.897590    6.335196    5.680723    5.262570    4.897590    5.050279   \n",
       "std      2.545655    2.205570    2.348537    2.276725    2.334535    2.301132   \n",
       "min      1.000000    1.000000    1.000000    1.000000    1.000000    1.000000   \n",
       "25%      4.000000    5.000000    4.000000    4.000000    3.000000    3.000000   \n",
       "50%      6.000000    7.000000    6.000000    5.000000    5.000000    5.000000   \n",
       "75%      8.000000    8.000000    7.000000    7.000000    7.000000    7.000000   \n",
       "max     10.000000   10.000000   10.000000   10.000000   10.000000   10.000000   \n",
       "\n",
       "        dra_3_gen   dra_4_gen        mean  \n",
       "count  166.000000  179.000000  345.000000  \n",
       "mean     5.385542    5.463687    5.497826  \n",
       "std      2.538581    2.274077    1.634641  \n",
       "min      1.000000    1.000000    1.000000  \n",
       "25%      3.000000    4.000000    4.500000  \n",
       "50%      6.000000    6.000000    5.500000  \n",
       "75%      7.750000    7.000000    6.500000  \n",
       "max     10.000000   10.000000    9.500000  "
      ]
     },
     "execution_count": 48,
     "metadata": {},
     "output_type": "execute_result"
    }
   ],
   "source": [
    "analysis_ab_m.d_gen.describe()"
   ]
  },
  {
   "cell_type": "code",
   "execution_count": 49,
   "metadata": {},
   "outputs": [
    {
     "data": {
      "image/png": "[encoded data removed]",
      "text/plain": [
       "<Figure size 432x432 with 1 Axes>"
      ]
     },
     "metadata": {
      "needs_background": "light"
     },
     "output_type": "display_data"
    }
   ],
   "source": [
    "analysis_ab_m.plt_box()"
   ]
  },
  {
   "cell_type": "code",
   "execution_count": 50,
   "metadata": {},
   "outputs": [
    {
     "data": {
      "image/png": "[encoded data removed]",
      "text/plain": [
       "<Figure size 432x288 with 1 Axes>"
      ]
     },
     "metadata": {
      "needs_background": "light"
     },
     "output_type": "display_data"
    }
   ],
   "source": [
    "analysis_ab_m.plt_dist('')"
   ]
  },
  {
   "cell_type": "code",
   "execution_count": 51,
   "metadata": {},
   "outputs": [
    {
     "name": "stdout",
     "output_type": "stream",
     "text": [
      "art: 5.43\n",
      "gen: 5.5\n",
      "차이:  0.07\n"
     ]
    }
   ],
   "source": [
    "analysis_ab_m.mean()"
   ]
  },
  {
   "cell_type": "code",
   "execution_count": 52,
   "metadata": {},
   "outputs": [
    {
     "data": {
      "text/plain": [
       "LeveneResult(statistic=0.06234182916262775, pvalue=0.8029066808118432)"
      ]
     },
     "execution_count": 52,
     "metadata": {},
     "output_type": "execute_result"
    }
   ],
   "source": [
    "analysis_ab_m.levene_test()"
   ]
  },
  {
   "cell_type": "code",
   "execution_count": 53,
   "metadata": {},
   "outputs": [
    {
     "name": "stdout",
     "output_type": "stream",
     "text": [
      "Ttest_indResult(statistic=-0.536508852126906, pvalue=0.5917803503070895)\n"
     ]
    },
    {
     "data": {
      "text/plain": [
       "Ttest_indResult(statistic=-0.536508852126906, pvalue=0.5917803503070895)"
      ]
     },
     "execution_count": 53,
     "metadata": {},
     "output_type": "execute_result"
    }
   ],
   "source": [
    "analysis_ab_m.t_test()"
   ]
  },
  {
   "cell_type": "markdown",
   "metadata": {},
   "source": [
    "## 연령별"
   ]
  },
  {
   "cell_type": "code",
   "execution_count": 54,
   "metadata": {},
   "outputs": [
    {
     "data": {
      "text/html": [
       "<div>\n",
       "<style scoped>\n",
       "    .dataframe tbody tr th:only-of-type {\n",
       "        vertical-align: middle;\n",
       "    }\n",
       "\n",
       "    .dataframe tbody tr th {\n",
       "        vertical-align: top;\n",
       "    }\n",
       "\n",
       "    .dataframe thead th {\n",
       "        text-align: right;\n",
       "    }\n",
       "</style>\n",
       "<table border=\"1\" class=\"dataframe\">\n",
       "  <thead>\n",
       "    <tr style=\"text-align: right;\">\n",
       "      <th></th>\n",
       "      <th>성별</th>\n",
       "      <th>나이</th>\n",
       "      <th>act_1_gen</th>\n",
       "      <th>dra_1_gen</th>\n",
       "      <th>act_2_art</th>\n",
       "      <th>dra_2_art</th>\n",
       "      <th>act_3_gen</th>\n",
       "      <th>dra_3_gen</th>\n",
       "      <th>act_4_art</th>\n",
       "      <th>dra_4_art</th>\n",
       "      <th>mean</th>\n",
       "      <th>sum</th>\n",
       "      <th>var</th>\n",
       "    </tr>\n",
       "  </thead>\n",
       "  <tbody>\n",
       "    <tr>\n",
       "      <th>0</th>\n",
       "      <td>여성</td>\n",
       "      <td>30대</td>\n",
       "      <td>3</td>\n",
       "      <td>8</td>\n",
       "      <td>5</td>\n",
       "      <td>8</td>\n",
       "      <td>3</td>\n",
       "      <td>5</td>\n",
       "      <td>6</td>\n",
       "      <td>9</td>\n",
       "      <td>5.875</td>\n",
       "      <td>47</td>\n",
       "      <td>5.267857</td>\n",
       "    </tr>\n",
       "    <tr>\n",
       "      <th>1</th>\n",
       "      <td>여성</td>\n",
       "      <td>40대</td>\n",
       "      <td>7</td>\n",
       "      <td>1</td>\n",
       "      <td>1</td>\n",
       "      <td>2</td>\n",
       "      <td>1</td>\n",
       "      <td>1</td>\n",
       "      <td>1</td>\n",
       "      <td>1</td>\n",
       "      <td>1.875</td>\n",
       "      <td>15</td>\n",
       "      <td>4.410714</td>\n",
       "    </tr>\n",
       "    <tr>\n",
       "      <th>2</th>\n",
       "      <td>남성</td>\n",
       "      <td>20대</td>\n",
       "      <td>2</td>\n",
       "      <td>7</td>\n",
       "      <td>5</td>\n",
       "      <td>8</td>\n",
       "      <td>4</td>\n",
       "      <td>5</td>\n",
       "      <td>5</td>\n",
       "      <td>7</td>\n",
       "      <td>5.375</td>\n",
       "      <td>43</td>\n",
       "      <td>3.696429</td>\n",
       "    </tr>\n",
       "    <tr>\n",
       "      <th>3</th>\n",
       "      <td>남성</td>\n",
       "      <td>20대</td>\n",
       "      <td>10</td>\n",
       "      <td>3</td>\n",
       "      <td>8</td>\n",
       "      <td>3</td>\n",
       "      <td>5</td>\n",
       "      <td>9</td>\n",
       "      <td>7</td>\n",
       "      <td>6</td>\n",
       "      <td>6.375</td>\n",
       "      <td>51</td>\n",
       "      <td>6.839286</td>\n",
       "    </tr>\n",
       "    <tr>\n",
       "      <th>4</th>\n",
       "      <td>남성</td>\n",
       "      <td>50대</td>\n",
       "      <td>2</td>\n",
       "      <td>5</td>\n",
       "      <td>4</td>\n",
       "      <td>4</td>\n",
       "      <td>2</td>\n",
       "      <td>5</td>\n",
       "      <td>6</td>\n",
       "      <td>7</td>\n",
       "      <td>4.375</td>\n",
       "      <td>35</td>\n",
       "      <td>3.125000</td>\n",
       "    </tr>\n",
       "    <tr>\n",
       "      <th>...</th>\n",
       "      <td>...</td>\n",
       "      <td>...</td>\n",
       "      <td>...</td>\n",
       "      <td>...</td>\n",
       "      <td>...</td>\n",
       "      <td>...</td>\n",
       "      <td>...</td>\n",
       "      <td>...</td>\n",
       "      <td>...</td>\n",
       "      <td>...</td>\n",
       "      <td>...</td>\n",
       "      <td>...</td>\n",
       "      <td>...</td>\n",
       "    </tr>\n",
       "    <tr>\n",
       "      <th>283</th>\n",
       "      <td>남성</td>\n",
       "      <td>20대</td>\n",
       "      <td>6</td>\n",
       "      <td>9</td>\n",
       "      <td>3</td>\n",
       "      <td>4</td>\n",
       "      <td>5</td>\n",
       "      <td>2</td>\n",
       "      <td>4</td>\n",
       "      <td>7</td>\n",
       "      <td>5.000</td>\n",
       "      <td>40</td>\n",
       "      <td>5.142857</td>\n",
       "    </tr>\n",
       "    <tr>\n",
       "      <th>284</th>\n",
       "      <td>여성</td>\n",
       "      <td>20대</td>\n",
       "      <td>3</td>\n",
       "      <td>6</td>\n",
       "      <td>3</td>\n",
       "      <td>4</td>\n",
       "      <td>5</td>\n",
       "      <td>5</td>\n",
       "      <td>8</td>\n",
       "      <td>6</td>\n",
       "      <td>5.000</td>\n",
       "      <td>40</td>\n",
       "      <td>2.857143</td>\n",
       "    </tr>\n",
       "    <tr>\n",
       "      <th>285</th>\n",
       "      <td>남성</td>\n",
       "      <td>20대</td>\n",
       "      <td>9</td>\n",
       "      <td>4</td>\n",
       "      <td>9</td>\n",
       "      <td>2</td>\n",
       "      <td>8</td>\n",
       "      <td>7</td>\n",
       "      <td>7</td>\n",
       "      <td>5</td>\n",
       "      <td>6.375</td>\n",
       "      <td>51</td>\n",
       "      <td>6.267857</td>\n",
       "    </tr>\n",
       "    <tr>\n",
       "      <th>286</th>\n",
       "      <td>남성</td>\n",
       "      <td>30대</td>\n",
       "      <td>5</td>\n",
       "      <td>1</td>\n",
       "      <td>6</td>\n",
       "      <td>1</td>\n",
       "      <td>8</td>\n",
       "      <td>1</td>\n",
       "      <td>6</td>\n",
       "      <td>1</td>\n",
       "      <td>3.625</td>\n",
       "      <td>29</td>\n",
       "      <td>8.553571</td>\n",
       "    </tr>\n",
       "    <tr>\n",
       "      <th>287</th>\n",
       "      <td>남성</td>\n",
       "      <td>40대</td>\n",
       "      <td>7</td>\n",
       "      <td>6</td>\n",
       "      <td>6</td>\n",
       "      <td>5</td>\n",
       "      <td>5</td>\n",
       "      <td>3</td>\n",
       "      <td>5</td>\n",
       "      <td>4</td>\n",
       "      <td>5.125</td>\n",
       "      <td>41</td>\n",
       "      <td>1.553571</td>\n",
       "    </tr>\n",
       "  </tbody>\n",
       "</table>\n",
       "<p>287 rows × 13 columns</p>\n",
       "</div>"
      ],
      "text/plain": [
       "     성별   나이  act_1_gen  dra_1_gen  act_2_art  dra_2_art  act_3_gen  \\\n",
       "0    여성  30대          3          8          5          8          3   \n",
       "1    여성  40대          7          1          1          2          1   \n",
       "2    남성  20대          2          7          5          8          4   \n",
       "3    남성  20대         10          3          8          3          5   \n",
       "4    남성  50대          2          5          4          4          2   \n",
       "..   ..  ...        ...        ...        ...        ...        ...   \n",
       "283  남성  20대          6          9          3          4          5   \n",
       "284  여성  20대          3          6          3          4          5   \n",
       "285  남성  20대          9          4          9          2          8   \n",
       "286  남성  30대          5          1          6          1          8   \n",
       "287  남성  40대          7          6          6          5          5   \n",
       "\n",
       "     dra_3_gen  act_4_art  dra_4_art   mean  sum       var  \n",
       "0            5          6          9  5.875   47  5.267857  \n",
       "1            1          1          1  1.875   15  4.410714  \n",
       "2            5          5          7  5.375   43  3.696429  \n",
       "3            9          7          6  6.375   51  6.839286  \n",
       "4            5          6          7  4.375   35  3.125000  \n",
       "..         ...        ...        ...    ...  ...       ...  \n",
       "283          2          4          7  5.000   40  5.142857  \n",
       "284          5          8          6  5.000   40  2.857143  \n",
       "285          7          7          5  6.375   51  6.267857  \n",
       "286          1          6          1  3.625   29  8.553571  \n",
       "287          3          5          4  5.125   41  1.553571  \n",
       "\n",
       "[287 rows x 13 columns]"
      ]
     },
     "execution_count": 54,
     "metadata": {},
     "output_type": "execute_result"
    }
   ],
   "source": [
    "data_A"
   ]
  },
  {
   "cell_type": "markdown",
   "metadata": {},
   "source": [
    "### 20 대"
   ]
  },
  {
   "cell_type": "code",
   "execution_count": 55,
   "metadata": {},
   "outputs": [],
   "source": [
    "data_A_age_20 = data_A[data_A['나이'].isin(['10대', '20대'])]\n",
    "data_B_age_20 = data_B[data_B['나이'].isin(['10대', '20대'])]"
   ]
  },
  {
   "cell_type": "code",
   "execution_count": 56,
   "metadata": {},
   "outputs": [
    {
     "name": "stderr",
     "output_type": "stream",
     "text": [
      "/home/yun/.local/lib/python3.6/site-packages/ipykernel_launcher.py:9: FutureWarning: Sorting because non-concatenation axis is not aligned. A future version\n",
      "of pandas will change to not sort by default.\n",
      "\n",
      "To accept the future behavior, pass 'sort=False'.\n",
      "\n",
      "To retain the current behavior and silence the warning, pass 'sort=True'.\n",
      "\n",
      "  if __name__ == '__main__':\n",
      "/home/yun/.local/lib/python3.6/site-packages/ipykernel_launcher.py:12: FutureWarning: Sorting because non-concatenation axis is not aligned. A future version\n",
      "of pandas will change to not sort by default.\n",
      "\n",
      "To accept the future behavior, pass 'sort=False'.\n",
      "\n",
      "To retain the current behavior and silence the warning, pass 'sort=True'.\n",
      "\n",
      "  if sys.path[0] == '':\n"
     ]
    }
   ],
   "source": [
    "analysis_ab_age_20 = analysis(data_A_age_20, data_B_age_20)"
   ]
  },
  {
   "cell_type": "code",
   "execution_count": 57,
   "metadata": {},
   "outputs": [
    {
     "data": {
      "text/html": [
       "<div>\n",
       "<style scoped>\n",
       "    .dataframe tbody tr th:only-of-type {\n",
       "        vertical-align: middle;\n",
       "    }\n",
       "\n",
       "    .dataframe tbody tr th {\n",
       "        vertical-align: top;\n",
       "    }\n",
       "\n",
       "    .dataframe thead th {\n",
       "        text-align: right;\n",
       "    }\n",
       "</style>\n",
       "<table border=\"1\" class=\"dataframe\">\n",
       "  <thead>\n",
       "    <tr style=\"text-align: right;\">\n",
       "      <th></th>\n",
       "      <th>act_1_art</th>\n",
       "      <th>act_2_art</th>\n",
       "      <th>act_3_art</th>\n",
       "      <th>act_4_art</th>\n",
       "      <th>dra_1_art</th>\n",
       "      <th>dra_2_art</th>\n",
       "      <th>dra_3_art</th>\n",
       "      <th>dra_4_art</th>\n",
       "      <th>mean</th>\n",
       "    </tr>\n",
       "  </thead>\n",
       "  <tbody>\n",
       "    <tr>\n",
       "      <th>count</th>\n",
       "      <td>86.000000</td>\n",
       "      <td>91.000000</td>\n",
       "      <td>86.000000</td>\n",
       "      <td>91.000000</td>\n",
       "      <td>86.00000</td>\n",
       "      <td>91.000000</td>\n",
       "      <td>86.000000</td>\n",
       "      <td>91.000000</td>\n",
       "      <td>177.000000</td>\n",
       "    </tr>\n",
       "    <tr>\n",
       "      <th>mean</th>\n",
       "      <td>5.744186</td>\n",
       "      <td>5.065934</td>\n",
       "      <td>5.755814</td>\n",
       "      <td>4.593407</td>\n",
       "      <td>5.55814</td>\n",
       "      <td>4.835165</td>\n",
       "      <td>5.941860</td>\n",
       "      <td>5.076923</td>\n",
       "      <td>5.309322</td>\n",
       "    </tr>\n",
       "    <tr>\n",
       "      <th>std</th>\n",
       "      <td>2.159445</td>\n",
       "      <td>2.220121</td>\n",
       "      <td>2.410448</td>\n",
       "      <td>2.440301</td>\n",
       "      <td>2.40883</td>\n",
       "      <td>2.446148</td>\n",
       "      <td>2.407609</td>\n",
       "      <td>2.499915</td>\n",
       "      <td>1.744516</td>\n",
       "    </tr>\n",
       "    <tr>\n",
       "      <th>min</th>\n",
       "      <td>1.000000</td>\n",
       "      <td>1.000000</td>\n",
       "      <td>1.000000</td>\n",
       "      <td>1.000000</td>\n",
       "      <td>1.00000</td>\n",
       "      <td>1.000000</td>\n",
       "      <td>1.000000</td>\n",
       "      <td>1.000000</td>\n",
       "      <td>1.000000</td>\n",
       "    </tr>\n",
       "    <tr>\n",
       "      <th>25%</th>\n",
       "      <td>4.000000</td>\n",
       "      <td>3.000000</td>\n",
       "      <td>4.250000</td>\n",
       "      <td>2.500000</td>\n",
       "      <td>4.00000</td>\n",
       "      <td>3.000000</td>\n",
       "      <td>4.000000</td>\n",
       "      <td>3.000000</td>\n",
       "      <td>4.500000</td>\n",
       "    </tr>\n",
       "    <tr>\n",
       "      <th>50%</th>\n",
       "      <td>6.000000</td>\n",
       "      <td>5.000000</td>\n",
       "      <td>6.000000</td>\n",
       "      <td>5.000000</td>\n",
       "      <td>6.00000</td>\n",
       "      <td>5.000000</td>\n",
       "      <td>7.000000</td>\n",
       "      <td>5.000000</td>\n",
       "      <td>5.250000</td>\n",
       "    </tr>\n",
       "    <tr>\n",
       "      <th>75%</th>\n",
       "      <td>7.000000</td>\n",
       "      <td>7.000000</td>\n",
       "      <td>8.000000</td>\n",
       "      <td>6.500000</td>\n",
       "      <td>7.00000</td>\n",
       "      <td>7.000000</td>\n",
       "      <td>8.000000</td>\n",
       "      <td>7.000000</td>\n",
       "      <td>6.500000</td>\n",
       "    </tr>\n",
       "    <tr>\n",
       "      <th>max</th>\n",
       "      <td>10.000000</td>\n",
       "      <td>10.000000</td>\n",
       "      <td>10.000000</td>\n",
       "      <td>10.000000</td>\n",
       "      <td>10.00000</td>\n",
       "      <td>10.000000</td>\n",
       "      <td>10.000000</td>\n",
       "      <td>10.000000</td>\n",
       "      <td>9.750000</td>\n",
       "    </tr>\n",
       "  </tbody>\n",
       "</table>\n",
       "</div>"
      ],
      "text/plain": [
       "       act_1_art  act_2_art  act_3_art  act_4_art  dra_1_art  dra_2_art  \\\n",
       "count  86.000000  91.000000  86.000000  91.000000   86.00000  91.000000   \n",
       "mean    5.744186   5.065934   5.755814   4.593407    5.55814   4.835165   \n",
       "std     2.159445   2.220121   2.410448   2.440301    2.40883   2.446148   \n",
       "min     1.000000   1.000000   1.000000   1.000000    1.00000   1.000000   \n",
       "25%     4.000000   3.000000   4.250000   2.500000    4.00000   3.000000   \n",
       "50%     6.000000   5.000000   6.000000   5.000000    6.00000   5.000000   \n",
       "75%     7.000000   7.000000   8.000000   6.500000    7.00000   7.000000   \n",
       "max    10.000000  10.000000  10.000000  10.000000   10.00000  10.000000   \n",
       "\n",
       "       dra_3_art  dra_4_art        mean  \n",
       "count  86.000000  91.000000  177.000000  \n",
       "mean    5.941860   5.076923    5.309322  \n",
       "std     2.407609   2.499915    1.744516  \n",
       "min     1.000000   1.000000    1.000000  \n",
       "25%     4.000000   3.000000    4.500000  \n",
       "50%     7.000000   5.000000    5.250000  \n",
       "75%     8.000000   7.000000    6.500000  \n",
       "max    10.000000  10.000000    9.750000  "
      ]
     },
     "execution_count": 57,
     "metadata": {},
     "output_type": "execute_result"
    }
   ],
   "source": [
    "analysis_ab_age_20.d_art.describe()"
   ]
  },
  {
   "cell_type": "code",
   "execution_count": 58,
   "metadata": {},
   "outputs": [
    {
     "data": {
      "text/html": [
       "<div>\n",
       "<style scoped>\n",
       "    .dataframe tbody tr th:only-of-type {\n",
       "        vertical-align: middle;\n",
       "    }\n",
       "\n",
       "    .dataframe tbody tr th {\n",
       "        vertical-align: top;\n",
       "    }\n",
       "\n",
       "    .dataframe thead th {\n",
       "        text-align: right;\n",
       "    }\n",
       "</style>\n",
       "<table border=\"1\" class=\"dataframe\">\n",
       "  <thead>\n",
       "    <tr style=\"text-align: right;\">\n",
       "      <th></th>\n",
       "      <th>act_1_gen</th>\n",
       "      <th>act_2_gen</th>\n",
       "      <th>act_3_gen</th>\n",
       "      <th>act_4_gen</th>\n",
       "      <th>dra_1_gen</th>\n",
       "      <th>dra_2_gen</th>\n",
       "      <th>dra_3_gen</th>\n",
       "      <th>dra_4_gen</th>\n",
       "      <th>mean</th>\n",
       "    </tr>\n",
       "  </thead>\n",
       "  <tbody>\n",
       "    <tr>\n",
       "      <th>count</th>\n",
       "      <td>91.000000</td>\n",
       "      <td>86.000000</td>\n",
       "      <td>91.000000</td>\n",
       "      <td>86.000000</td>\n",
       "      <td>91.000000</td>\n",
       "      <td>86.000000</td>\n",
       "      <td>91.000000</td>\n",
       "      <td>86.000000</td>\n",
       "      <td>177.000000</td>\n",
       "    </tr>\n",
       "    <tr>\n",
       "      <th>mean</th>\n",
       "      <td>5.329670</td>\n",
       "      <td>6.023256</td>\n",
       "      <td>5.725275</td>\n",
       "      <td>5.093023</td>\n",
       "      <td>4.582418</td>\n",
       "      <td>5.267442</td>\n",
       "      <td>5.043956</td>\n",
       "      <td>5.569767</td>\n",
       "      <td>5.324859</td>\n",
       "    </tr>\n",
       "    <tr>\n",
       "      <th>std</th>\n",
       "      <td>2.624902</td>\n",
       "      <td>2.201479</td>\n",
       "      <td>2.499182</td>\n",
       "      <td>2.283588</td>\n",
       "      <td>2.413232</td>\n",
       "      <td>2.187797</td>\n",
       "      <td>2.607306</td>\n",
       "      <td>2.334099</td>\n",
       "      <td>1.695282</td>\n",
       "    </tr>\n",
       "    <tr>\n",
       "      <th>min</th>\n",
       "      <td>1.000000</td>\n",
       "      <td>1.000000</td>\n",
       "      <td>1.000000</td>\n",
       "      <td>1.000000</td>\n",
       "      <td>1.000000</td>\n",
       "      <td>1.000000</td>\n",
       "      <td>1.000000</td>\n",
       "      <td>1.000000</td>\n",
       "      <td>1.250000</td>\n",
       "    </tr>\n",
       "    <tr>\n",
       "      <th>25%</th>\n",
       "      <td>3.000000</td>\n",
       "      <td>5.000000</td>\n",
       "      <td>5.000000</td>\n",
       "      <td>3.000000</td>\n",
       "      <td>3.000000</td>\n",
       "      <td>4.000000</td>\n",
       "      <td>3.000000</td>\n",
       "      <td>4.000000</td>\n",
       "      <td>4.500000</td>\n",
       "    </tr>\n",
       "    <tr>\n",
       "      <th>50%</th>\n",
       "      <td>5.000000</td>\n",
       "      <td>6.000000</td>\n",
       "      <td>6.000000</td>\n",
       "      <td>5.000000</td>\n",
       "      <td>4.000000</td>\n",
       "      <td>5.000000</td>\n",
       "      <td>5.000000</td>\n",
       "      <td>6.000000</td>\n",
       "      <td>5.500000</td>\n",
       "    </tr>\n",
       "    <tr>\n",
       "      <th>75%</th>\n",
       "      <td>7.000000</td>\n",
       "      <td>7.000000</td>\n",
       "      <td>7.000000</td>\n",
       "      <td>7.000000</td>\n",
       "      <td>7.000000</td>\n",
       "      <td>7.000000</td>\n",
       "      <td>7.000000</td>\n",
       "      <td>7.000000</td>\n",
       "      <td>6.500000</td>\n",
       "    </tr>\n",
       "    <tr>\n",
       "      <th>max</th>\n",
       "      <td>10.000000</td>\n",
       "      <td>10.000000</td>\n",
       "      <td>10.000000</td>\n",
       "      <td>10.000000</td>\n",
       "      <td>10.000000</td>\n",
       "      <td>10.000000</td>\n",
       "      <td>10.000000</td>\n",
       "      <td>10.000000</td>\n",
       "      <td>10.000000</td>\n",
       "    </tr>\n",
       "  </tbody>\n",
       "</table>\n",
       "</div>"
      ],
      "text/plain": [
       "       act_1_gen  act_2_gen  act_3_gen  act_4_gen  dra_1_gen  dra_2_gen  \\\n",
       "count  91.000000  86.000000  91.000000  86.000000  91.000000  86.000000   \n",
       "mean    5.329670   6.023256   5.725275   5.093023   4.582418   5.267442   \n",
       "std     2.624902   2.201479   2.499182   2.283588   2.413232   2.187797   \n",
       "min     1.000000   1.000000   1.000000   1.000000   1.000000   1.000000   \n",
       "25%     3.000000   5.000000   5.000000   3.000000   3.000000   4.000000   \n",
       "50%     5.000000   6.000000   6.000000   5.000000   4.000000   5.000000   \n",
       "75%     7.000000   7.000000   7.000000   7.000000   7.000000   7.000000   \n",
       "max    10.000000  10.000000  10.000000  10.000000  10.000000  10.000000   \n",
       "\n",
       "       dra_3_gen  dra_4_gen        mean  \n",
       "count  91.000000  86.000000  177.000000  \n",
       "mean    5.043956   5.569767    5.324859  \n",
       "std     2.607306   2.334099    1.695282  \n",
       "min     1.000000   1.000000    1.250000  \n",
       "25%     3.000000   4.000000    4.500000  \n",
       "50%     5.000000   6.000000    5.500000  \n",
       "75%     7.000000   7.000000    6.500000  \n",
       "max    10.000000  10.000000   10.000000  "
      ]
     },
     "execution_count": 58,
     "metadata": {},
     "output_type": "execute_result"
    }
   ],
   "source": [
    "analysis_ab_age_20.d_gen.describe()"
   ]
  },
  {
   "cell_type": "code",
   "execution_count": 59,
   "metadata": {},
   "outputs": [
    {
     "data": {
      "image/png": "[encoded data removed]",
      "text/plain": [
       "<Figure size 432x432 with 1 Axes>"
      ]
     },
     "metadata": {
      "needs_background": "light"
     },
     "output_type": "display_data"
    }
   ],
   "source": [
    "analysis_ab_age_20.plt_box()"
   ]
  },
  {
   "cell_type": "code",
   "execution_count": 60,
   "metadata": {},
   "outputs": [
    {
     "data": {
      "image/png": "[encoded data removed]",
      "text/plain": [
       "<Figure size 432x288 with 1 Axes>"
      ]
     },
     "metadata": {
      "needs_background": "light"
     },
     "output_type": "display_data"
    }
   ],
   "source": [
    "analysis_ab_age_20.plt_dist('')"
   ]
  },
  {
   "cell_type": "code",
   "execution_count": 61,
   "metadata": {},
   "outputs": [
    {
     "name": "stdout",
     "output_type": "stream",
     "text": [
      "art: 5.31\n",
      "gen: 5.32\n",
      "차이:  0.01\n"
     ]
    }
   ],
   "source": [
    "analysis_ab_age_20.mean()"
   ]
  },
  {
   "cell_type": "code",
   "execution_count": 62,
   "metadata": {},
   "outputs": [
    {
     "data": {
      "text/plain": [
       "LeveneResult(statistic=0.32819237791849615, pvalue=0.5670911809822399)"
      ]
     },
     "execution_count": 62,
     "metadata": {},
     "output_type": "execute_result"
    }
   ],
   "source": [
    "analysis_ab_age_20.levene_test()"
   ]
  },
  {
   "cell_type": "code",
   "execution_count": 63,
   "metadata": {},
   "outputs": [
    {
     "name": "stdout",
     "output_type": "stream",
     "text": [
      "Ttest_indResult(statistic=-0.08497352870031209, pvalue=0.9323307439580137)\n"
     ]
    },
    {
     "data": {
      "text/plain": [
       "Ttest_indResult(statistic=-0.08497352870031209, pvalue=0.9323307439580137)"
      ]
     },
     "execution_count": 63,
     "metadata": {},
     "output_type": "execute_result"
    }
   ],
   "source": [
    "analysis_ab_age_20.t_test()"
   ]
  },
  {
   "cell_type": "markdown",
   "metadata": {},
   "source": [
    "### 30 대 "
   ]
  },
  {
   "cell_type": "code",
   "execution_count": 64,
   "metadata": {},
   "outputs": [],
   "source": [
    "data_A_age_30 = data_A[data_A['나이']=='30대']\n",
    "data_B_age_30 = data_B[data_B['나이']=='30대']"
   ]
  },
  {
   "cell_type": "code",
   "execution_count": 65,
   "metadata": {},
   "outputs": [
    {
     "name": "stderr",
     "output_type": "stream",
     "text": [
      "/home/yun/.local/lib/python3.6/site-packages/ipykernel_launcher.py:9: FutureWarning: Sorting because non-concatenation axis is not aligned. A future version\n",
      "of pandas will change to not sort by default.\n",
      "\n",
      "To accept the future behavior, pass 'sort=False'.\n",
      "\n",
      "To retain the current behavior and silence the warning, pass 'sort=True'.\n",
      "\n",
      "  if __name__ == '__main__':\n",
      "/home/yun/.local/lib/python3.6/site-packages/ipykernel_launcher.py:12: FutureWarning: Sorting because non-concatenation axis is not aligned. A future version\n",
      "of pandas will change to not sort by default.\n",
      "\n",
      "To accept the future behavior, pass 'sort=False'.\n",
      "\n",
      "To retain the current behavior and silence the warning, pass 'sort=True'.\n",
      "\n",
      "  if sys.path[0] == '':\n"
     ]
    }
   ],
   "source": [
    "analysis_ab_age_30 = analysis(data_A_age_30, data_B_age_30)"
   ]
  },
  {
   "cell_type": "code",
   "execution_count": 66,
   "metadata": {},
   "outputs": [
    {
     "data": {
      "text/html": [
       "<div>\n",
       "<style scoped>\n",
       "    .dataframe tbody tr th:only-of-type {\n",
       "        vertical-align: middle;\n",
       "    }\n",
       "\n",
       "    .dataframe tbody tr th {\n",
       "        vertical-align: top;\n",
       "    }\n",
       "\n",
       "    .dataframe thead th {\n",
       "        text-align: right;\n",
       "    }\n",
       "</style>\n",
       "<table border=\"1\" class=\"dataframe\">\n",
       "  <thead>\n",
       "    <tr style=\"text-align: right;\">\n",
       "      <th></th>\n",
       "      <th>act_1_art</th>\n",
       "      <th>act_2_art</th>\n",
       "      <th>act_3_art</th>\n",
       "      <th>act_4_art</th>\n",
       "      <th>dra_1_art</th>\n",
       "      <th>dra_2_art</th>\n",
       "      <th>dra_3_art</th>\n",
       "      <th>dra_4_art</th>\n",
       "      <th>mean</th>\n",
       "    </tr>\n",
       "  </thead>\n",
       "  <tbody>\n",
       "    <tr>\n",
       "      <th>count</th>\n",
       "      <td>104.000000</td>\n",
       "      <td>114.000000</td>\n",
       "      <td>104.000000</td>\n",
       "      <td>114.000000</td>\n",
       "      <td>104.000000</td>\n",
       "      <td>114.000000</td>\n",
       "      <td>104.000000</td>\n",
       "      <td>114.000000</td>\n",
       "      <td>218.000000</td>\n",
       "    </tr>\n",
       "    <tr>\n",
       "      <th>mean</th>\n",
       "      <td>5.538462</td>\n",
       "      <td>5.500000</td>\n",
       "      <td>6.048077</td>\n",
       "      <td>5.175439</td>\n",
       "      <td>4.903846</td>\n",
       "      <td>5.403509</td>\n",
       "      <td>5.653846</td>\n",
       "      <td>5.447368</td>\n",
       "      <td>5.455275</td>\n",
       "    </tr>\n",
       "    <tr>\n",
       "      <th>std</th>\n",
       "      <td>2.553973</td>\n",
       "      <td>2.435904</td>\n",
       "      <td>2.261453</td>\n",
       "      <td>2.223151</td>\n",
       "      <td>2.601416</td>\n",
       "      <td>2.360138</td>\n",
       "      <td>2.292958</td>\n",
       "      <td>2.531543</td>\n",
       "      <td>1.696773</td>\n",
       "    </tr>\n",
       "    <tr>\n",
       "      <th>min</th>\n",
       "      <td>1.000000</td>\n",
       "      <td>1.000000</td>\n",
       "      <td>1.000000</td>\n",
       "      <td>1.000000</td>\n",
       "      <td>1.000000</td>\n",
       "      <td>1.000000</td>\n",
       "      <td>1.000000</td>\n",
       "      <td>1.000000</td>\n",
       "      <td>1.000000</td>\n",
       "    </tr>\n",
       "    <tr>\n",
       "      <th>25%</th>\n",
       "      <td>3.000000</td>\n",
       "      <td>4.000000</td>\n",
       "      <td>4.750000</td>\n",
       "      <td>4.000000</td>\n",
       "      <td>3.000000</td>\n",
       "      <td>3.000000</td>\n",
       "      <td>4.000000</td>\n",
       "      <td>4.000000</td>\n",
       "      <td>4.250000</td>\n",
       "    </tr>\n",
       "    <tr>\n",
       "      <th>50%</th>\n",
       "      <td>6.000000</td>\n",
       "      <td>6.000000</td>\n",
       "      <td>7.000000</td>\n",
       "      <td>5.000000</td>\n",
       "      <td>5.000000</td>\n",
       "      <td>6.000000</td>\n",
       "      <td>6.000000</td>\n",
       "      <td>5.000000</td>\n",
       "      <td>5.500000</td>\n",
       "    </tr>\n",
       "    <tr>\n",
       "      <th>75%</th>\n",
       "      <td>8.000000</td>\n",
       "      <td>7.000000</td>\n",
       "      <td>8.000000</td>\n",
       "      <td>7.000000</td>\n",
       "      <td>7.000000</td>\n",
       "      <td>7.000000</td>\n",
       "      <td>7.000000</td>\n",
       "      <td>7.750000</td>\n",
       "      <td>6.750000</td>\n",
       "    </tr>\n",
       "    <tr>\n",
       "      <th>max</th>\n",
       "      <td>10.000000</td>\n",
       "      <td>10.000000</td>\n",
       "      <td>10.000000</td>\n",
       "      <td>10.000000</td>\n",
       "      <td>10.000000</td>\n",
       "      <td>10.000000</td>\n",
       "      <td>10.000000</td>\n",
       "      <td>10.000000</td>\n",
       "      <td>10.000000</td>\n",
       "    </tr>\n",
       "  </tbody>\n",
       "</table>\n",
       "</div>"
      ],
      "text/plain": [
       "        act_1_art   act_2_art   act_3_art   act_4_art   dra_1_art   dra_2_art  \\\n",
       "count  104.000000  114.000000  104.000000  114.000000  104.000000  114.000000   \n",
       "mean     5.538462    5.500000    6.048077    5.175439    4.903846    5.403509   \n",
       "std      2.553973    2.435904    2.261453    2.223151    2.601416    2.360138   \n",
       "min      1.000000    1.000000    1.000000    1.000000    1.000000    1.000000   \n",
       "25%      3.000000    4.000000    4.750000    4.000000    3.000000    3.000000   \n",
       "50%      6.000000    6.000000    7.000000    5.000000    5.000000    6.000000   \n",
       "75%      8.000000    7.000000    8.000000    7.000000    7.000000    7.000000   \n",
       "max     10.000000   10.000000   10.000000   10.000000   10.000000   10.000000   \n",
       "\n",
       "        dra_3_art   dra_4_art        mean  \n",
       "count  104.000000  114.000000  218.000000  \n",
       "mean     5.653846    5.447368    5.455275  \n",
       "std      2.292958    2.531543    1.696773  \n",
       "min      1.000000    1.000000    1.000000  \n",
       "25%      4.000000    4.000000    4.250000  \n",
       "50%      6.000000    5.000000    5.500000  \n",
       "75%      7.000000    7.750000    6.750000  \n",
       "max     10.000000   10.000000   10.000000  "
      ]
     },
     "execution_count": 66,
     "metadata": {},
     "output_type": "execute_result"
    }
   ],
   "source": [
    "analysis_ab_age_30.d_art.describe()"
   ]
  },
  {
   "cell_type": "code",
   "execution_count": 67,
   "metadata": {},
   "outputs": [
    {
     "data": {
      "text/html": [
       "<div>\n",
       "<style scoped>\n",
       "    .dataframe tbody tr th:only-of-type {\n",
       "        vertical-align: middle;\n",
       "    }\n",
       "\n",
       "    .dataframe tbody tr th {\n",
       "        vertical-align: top;\n",
       "    }\n",
       "\n",
       "    .dataframe thead th {\n",
       "        text-align: right;\n",
       "    }\n",
       "</style>\n",
       "<table border=\"1\" class=\"dataframe\">\n",
       "  <thead>\n",
       "    <tr style=\"text-align: right;\">\n",
       "      <th></th>\n",
       "      <th>act_1_gen</th>\n",
       "      <th>act_2_gen</th>\n",
       "      <th>act_3_gen</th>\n",
       "      <th>act_4_gen</th>\n",
       "      <th>dra_1_gen</th>\n",
       "      <th>dra_2_gen</th>\n",
       "      <th>dra_3_gen</th>\n",
       "      <th>dra_4_gen</th>\n",
       "      <th>mean</th>\n",
       "    </tr>\n",
       "  </thead>\n",
       "  <tbody>\n",
       "    <tr>\n",
       "      <th>count</th>\n",
       "      <td>114.000000</td>\n",
       "      <td>104.000000</td>\n",
       "      <td>114.000000</td>\n",
       "      <td>104.000000</td>\n",
       "      <td>114.000000</td>\n",
       "      <td>104.000000</td>\n",
       "      <td>114.000000</td>\n",
       "      <td>104.000000</td>\n",
       "      <td>218.000000</td>\n",
       "    </tr>\n",
       "    <tr>\n",
       "      <th>mean</th>\n",
       "      <td>5.578947</td>\n",
       "      <td>6.028846</td>\n",
       "      <td>5.552632</td>\n",
       "      <td>5.201923</td>\n",
       "      <td>5.140351</td>\n",
       "      <td>5.096154</td>\n",
       "      <td>5.736842</td>\n",
       "      <td>5.307692</td>\n",
       "      <td>5.457569</td>\n",
       "    </tr>\n",
       "    <tr>\n",
       "      <th>std</th>\n",
       "      <td>2.610038</td>\n",
       "      <td>2.415391</td>\n",
       "      <td>2.417093</td>\n",
       "      <td>2.490291</td>\n",
       "      <td>2.349457</td>\n",
       "      <td>2.308781</td>\n",
       "      <td>2.687410</td>\n",
       "      <td>2.348629</td>\n",
       "      <td>1.675137</td>\n",
       "    </tr>\n",
       "    <tr>\n",
       "      <th>min</th>\n",
       "      <td>1.000000</td>\n",
       "      <td>1.000000</td>\n",
       "      <td>1.000000</td>\n",
       "      <td>1.000000</td>\n",
       "      <td>1.000000</td>\n",
       "      <td>1.000000</td>\n",
       "      <td>1.000000</td>\n",
       "      <td>1.000000</td>\n",
       "      <td>1.500000</td>\n",
       "    </tr>\n",
       "    <tr>\n",
       "      <th>25%</th>\n",
       "      <td>3.000000</td>\n",
       "      <td>4.000000</td>\n",
       "      <td>4.000000</td>\n",
       "      <td>3.000000</td>\n",
       "      <td>3.000000</td>\n",
       "      <td>3.000000</td>\n",
       "      <td>3.000000</td>\n",
       "      <td>3.750000</td>\n",
       "      <td>4.500000</td>\n",
       "    </tr>\n",
       "    <tr>\n",
       "      <th>50%</th>\n",
       "      <td>6.000000</td>\n",
       "      <td>6.000000</td>\n",
       "      <td>6.000000</td>\n",
       "      <td>5.000000</td>\n",
       "      <td>5.000000</td>\n",
       "      <td>5.000000</td>\n",
       "      <td>6.000000</td>\n",
       "      <td>5.000000</td>\n",
       "      <td>5.500000</td>\n",
       "    </tr>\n",
       "    <tr>\n",
       "      <th>75%</th>\n",
       "      <td>7.000000</td>\n",
       "      <td>8.000000</td>\n",
       "      <td>7.000000</td>\n",
       "      <td>7.000000</td>\n",
       "      <td>7.000000</td>\n",
       "      <td>7.000000</td>\n",
       "      <td>8.000000</td>\n",
       "      <td>7.000000</td>\n",
       "      <td>6.500000</td>\n",
       "    </tr>\n",
       "    <tr>\n",
       "      <th>max</th>\n",
       "      <td>10.000000</td>\n",
       "      <td>10.000000</td>\n",
       "      <td>10.000000</td>\n",
       "      <td>10.000000</td>\n",
       "      <td>10.000000</td>\n",
       "      <td>10.000000</td>\n",
       "      <td>10.000000</td>\n",
       "      <td>10.000000</td>\n",
       "      <td>9.500000</td>\n",
       "    </tr>\n",
       "  </tbody>\n",
       "</table>\n",
       "</div>"
      ],
      "text/plain": [
       "        act_1_gen   act_2_gen   act_3_gen   act_4_gen   dra_1_gen   dra_2_gen  \\\n",
       "count  114.000000  104.000000  114.000000  104.000000  114.000000  104.000000   \n",
       "mean     5.578947    6.028846    5.552632    5.201923    5.140351    5.096154   \n",
       "std      2.610038    2.415391    2.417093    2.490291    2.349457    2.308781   \n",
       "min      1.000000    1.000000    1.000000    1.000000    1.000000    1.000000   \n",
       "25%      3.000000    4.000000    4.000000    3.000000    3.000000    3.000000   \n",
       "50%      6.000000    6.000000    6.000000    5.000000    5.000000    5.000000   \n",
       "75%      7.000000    8.000000    7.000000    7.000000    7.000000    7.000000   \n",
       "max     10.000000   10.000000   10.000000   10.000000   10.000000   10.000000   \n",
       "\n",
       "        dra_3_gen   dra_4_gen        mean  \n",
       "count  114.000000  104.000000  218.000000  \n",
       "mean     5.736842    5.307692    5.457569  \n",
       "std      2.687410    2.348629    1.675137  \n",
       "min      1.000000    1.000000    1.500000  \n",
       "25%      3.000000    3.750000    4.500000  \n",
       "50%      6.000000    5.000000    5.500000  \n",
       "75%      8.000000    7.000000    6.500000  \n",
       "max     10.000000   10.000000    9.500000  "
      ]
     },
     "execution_count": 67,
     "metadata": {},
     "output_type": "execute_result"
    }
   ],
   "source": [
    "analysis_ab_age_30.d_gen.describe()"
   ]
  },
  {
   "cell_type": "code",
   "execution_count": 68,
   "metadata": {},
   "outputs": [
    {
     "data": {
      "image/png": "[encoded data removed]",
      "text/plain": [
       "<Figure size 432x432 with 1 Axes>"
      ]
     },
     "metadata": {
      "needs_background": "light"
     },
     "output_type": "display_data"
    }
   ],
   "source": [
    "analysis_ab_age_30.plt_box()"
   ]
  },
  {
   "cell_type": "code",
   "execution_count": 69,
   "metadata": {},
   "outputs": [
    {
     "data": {
      "image/png": "[encoded data removed]",
      "text/plain": [
       "<Figure size 432x288 with 1 Axes>"
      ]
     },
     "metadata": {
      "needs_background": "light"
     },
     "output_type": "display_data"
    }
   ],
   "source": [
    "analysis_ab_age_30.plt_dist('')"
   ]
  },
  {
   "cell_type": "code",
   "execution_count": 70,
   "metadata": {},
   "outputs": [
    {
     "name": "stdout",
     "output_type": "stream",
     "text": [
      "art: 5.46\n",
      "gen: 5.46\n",
      "차이:  0.0\n"
     ]
    }
   ],
   "source": [
    "analysis_ab_age_30.mean()"
   ]
  },
  {
   "cell_type": "code",
   "execution_count": 71,
   "metadata": {},
   "outputs": [
    {
     "data": {
      "text/plain": [
       "LeveneResult(statistic=0.2650478942988, pvalue=0.6069352889900117)"
      ]
     },
     "execution_count": 71,
     "metadata": {},
     "output_type": "execute_result"
    }
   ],
   "source": [
    "analysis_ab_age_30.levene_test()"
   ]
  },
  {
   "cell_type": "code",
   "execution_count": 72,
   "metadata": {},
   "outputs": [
    {
     "name": "stdout",
     "output_type": "stream",
     "text": [
      "Ttest_indResult(statistic=-0.014202731216785015, pvalue=0.9886747675140404)\n"
     ]
    },
    {
     "data": {
      "text/plain": [
       "Ttest_indResult(statistic=-0.014202731216785015, pvalue=0.9886747675140404)"
      ]
     },
     "execution_count": 72,
     "metadata": {},
     "output_type": "execute_result"
    }
   ],
   "source": [
    "analysis_ab_age_30.t_test()"
   ]
  },
  {
   "cell_type": "markdown",
   "metadata": {},
   "source": [
    "### 40대"
   ]
  },
  {
   "cell_type": "code",
   "execution_count": 73,
   "metadata": {},
   "outputs": [
    {
     "name": "stderr",
     "output_type": "stream",
     "text": [
      "/home/yun/.local/lib/python3.6/site-packages/ipykernel_launcher.py:9: FutureWarning: Sorting because non-concatenation axis is not aligned. A future version\n",
      "of pandas will change to not sort by default.\n",
      "\n",
      "To accept the future behavior, pass 'sort=False'.\n",
      "\n",
      "To retain the current behavior and silence the warning, pass 'sort=True'.\n",
      "\n",
      "  if __name__ == '__main__':\n",
      "/home/yun/.local/lib/python3.6/site-packages/ipykernel_launcher.py:12: FutureWarning: Sorting because non-concatenation axis is not aligned. A future version\n",
      "of pandas will change to not sort by default.\n",
      "\n",
      "To accept the future behavior, pass 'sort=False'.\n",
      "\n",
      "To retain the current behavior and silence the warning, pass 'sort=True'.\n",
      "\n",
      "  if sys.path[0] == '':\n"
     ]
    }
   ],
   "source": [
    "data_A_age_40 = data_A[data_A['나이']=='40대']\n",
    "data_B_age_40 = data_B[data_B['나이']=='40대']\n",
    "\n",
    "analysis_ab_age_40 = analysis(data_A_age_40, data_B_age_40)"
   ]
  },
  {
   "cell_type": "code",
   "execution_count": 74,
   "metadata": {},
   "outputs": [
    {
     "data": {
      "text/html": [
       "<div>\n",
       "<style scoped>\n",
       "    .dataframe tbody tr th:only-of-type {\n",
       "        vertical-align: middle;\n",
       "    }\n",
       "\n",
       "    .dataframe tbody tr th {\n",
       "        vertical-align: top;\n",
       "    }\n",
       "\n",
       "    .dataframe thead th {\n",
       "        text-align: right;\n",
       "    }\n",
       "</style>\n",
       "<table border=\"1\" class=\"dataframe\">\n",
       "  <thead>\n",
       "    <tr style=\"text-align: right;\">\n",
       "      <th></th>\n",
       "      <th>act_1_art</th>\n",
       "      <th>act_2_art</th>\n",
       "      <th>act_3_art</th>\n",
       "      <th>act_4_art</th>\n",
       "      <th>dra_1_art</th>\n",
       "      <th>dra_2_art</th>\n",
       "      <th>dra_3_art</th>\n",
       "      <th>dra_4_art</th>\n",
       "      <th>mean</th>\n",
       "    </tr>\n",
       "  </thead>\n",
       "  <tbody>\n",
       "    <tr>\n",
       "      <th>count</th>\n",
       "      <td>76.000000</td>\n",
       "      <td>61.000000</td>\n",
       "      <td>76.000000</td>\n",
       "      <td>61.000000</td>\n",
       "      <td>76.000000</td>\n",
       "      <td>61.000000</td>\n",
       "      <td>76.000000</td>\n",
       "      <td>61.000000</td>\n",
       "      <td>137.000000</td>\n",
       "    </tr>\n",
       "    <tr>\n",
       "      <th>mean</th>\n",
       "      <td>5.868421</td>\n",
       "      <td>5.557377</td>\n",
       "      <td>5.868421</td>\n",
       "      <td>5.262295</td>\n",
       "      <td>5.328947</td>\n",
       "      <td>5.377049</td>\n",
       "      <td>5.921053</td>\n",
       "      <td>5.426230</td>\n",
       "      <td>5.594891</td>\n",
       "    </tr>\n",
       "    <tr>\n",
       "      <th>std</th>\n",
       "      <td>2.462206</td>\n",
       "      <td>2.284182</td>\n",
       "      <td>2.418496</td>\n",
       "      <td>2.015785</td>\n",
       "      <td>2.351670</td>\n",
       "      <td>2.288842</td>\n",
       "      <td>2.313803</td>\n",
       "      <td>2.224553</td>\n",
       "      <td>1.704539</td>\n",
       "    </tr>\n",
       "    <tr>\n",
       "      <th>min</th>\n",
       "      <td>1.000000</td>\n",
       "      <td>1.000000</td>\n",
       "      <td>1.000000</td>\n",
       "      <td>1.000000</td>\n",
       "      <td>1.000000</td>\n",
       "      <td>1.000000</td>\n",
       "      <td>1.000000</td>\n",
       "      <td>1.000000</td>\n",
       "      <td>1.250000</td>\n",
       "    </tr>\n",
       "    <tr>\n",
       "      <th>25%</th>\n",
       "      <td>4.000000</td>\n",
       "      <td>4.000000</td>\n",
       "      <td>4.000000</td>\n",
       "      <td>4.000000</td>\n",
       "      <td>3.000000</td>\n",
       "      <td>3.000000</td>\n",
       "      <td>4.000000</td>\n",
       "      <td>4.000000</td>\n",
       "      <td>4.750000</td>\n",
       "    </tr>\n",
       "    <tr>\n",
       "      <th>50%</th>\n",
       "      <td>6.000000</td>\n",
       "      <td>6.000000</td>\n",
       "      <td>6.000000</td>\n",
       "      <td>5.000000</td>\n",
       "      <td>5.500000</td>\n",
       "      <td>6.000000</td>\n",
       "      <td>6.500000</td>\n",
       "      <td>5.000000</td>\n",
       "      <td>5.500000</td>\n",
       "    </tr>\n",
       "    <tr>\n",
       "      <th>75%</th>\n",
       "      <td>8.000000</td>\n",
       "      <td>7.000000</td>\n",
       "      <td>8.000000</td>\n",
       "      <td>7.000000</td>\n",
       "      <td>7.000000</td>\n",
       "      <td>7.000000</td>\n",
       "      <td>8.000000</td>\n",
       "      <td>7.000000</td>\n",
       "      <td>6.750000</td>\n",
       "    </tr>\n",
       "    <tr>\n",
       "      <th>max</th>\n",
       "      <td>10.000000</td>\n",
       "      <td>10.000000</td>\n",
       "      <td>10.000000</td>\n",
       "      <td>10.000000</td>\n",
       "      <td>10.000000</td>\n",
       "      <td>9.000000</td>\n",
       "      <td>10.000000</td>\n",
       "      <td>10.000000</td>\n",
       "      <td>9.750000</td>\n",
       "    </tr>\n",
       "  </tbody>\n",
       "</table>\n",
       "</div>"
      ],
      "text/plain": [
       "       act_1_art  act_2_art  act_3_art  act_4_art  dra_1_art  dra_2_art  \\\n",
       "count  76.000000  61.000000  76.000000  61.000000  76.000000  61.000000   \n",
       "mean    5.868421   5.557377   5.868421   5.262295   5.328947   5.377049   \n",
       "std     2.462206   2.284182   2.418496   2.015785   2.351670   2.288842   \n",
       "min     1.000000   1.000000   1.000000   1.000000   1.000000   1.000000   \n",
       "25%     4.000000   4.000000   4.000000   4.000000   3.000000   3.000000   \n",
       "50%     6.000000   6.000000   6.000000   5.000000   5.500000   6.000000   \n",
       "75%     8.000000   7.000000   8.000000   7.000000   7.000000   7.000000   \n",
       "max    10.000000  10.000000  10.000000  10.000000  10.000000   9.000000   \n",
       "\n",
       "       dra_3_art  dra_4_art        mean  \n",
       "count  76.000000  61.000000  137.000000  \n",
       "mean    5.921053   5.426230    5.594891  \n",
       "std     2.313803   2.224553    1.704539  \n",
       "min     1.000000   1.000000    1.250000  \n",
       "25%     4.000000   4.000000    4.750000  \n",
       "50%     6.500000   5.000000    5.500000  \n",
       "75%     8.000000   7.000000    6.750000  \n",
       "max    10.000000  10.000000    9.750000  "
      ]
     },
     "execution_count": 74,
     "metadata": {},
     "output_type": "execute_result"
    }
   ],
   "source": [
    "analysis_ab_age_40.d_art.describe()"
   ]
  },
  {
   "cell_type": "code",
   "execution_count": 75,
   "metadata": {},
   "outputs": [
    {
     "data": {
      "text/html": [
       "<div>\n",
       "<style scoped>\n",
       "    .dataframe tbody tr th:only-of-type {\n",
       "        vertical-align: middle;\n",
       "    }\n",
       "\n",
       "    .dataframe tbody tr th {\n",
       "        vertical-align: top;\n",
       "    }\n",
       "\n",
       "    .dataframe thead th {\n",
       "        text-align: right;\n",
       "    }\n",
       "</style>\n",
       "<table border=\"1\" class=\"dataframe\">\n",
       "  <thead>\n",
       "    <tr style=\"text-align: right;\">\n",
       "      <th></th>\n",
       "      <th>act_1_gen</th>\n",
       "      <th>act_2_gen</th>\n",
       "      <th>act_3_gen</th>\n",
       "      <th>act_4_gen</th>\n",
       "      <th>dra_1_gen</th>\n",
       "      <th>dra_2_gen</th>\n",
       "      <th>dra_3_gen</th>\n",
       "      <th>dra_4_gen</th>\n",
       "      <th>mean</th>\n",
       "    </tr>\n",
       "  </thead>\n",
       "  <tbody>\n",
       "    <tr>\n",
       "      <th>count</th>\n",
       "      <td>61.000000</td>\n",
       "      <td>76.000000</td>\n",
       "      <td>61.000000</td>\n",
       "      <td>76.000000</td>\n",
       "      <td>61.000000</td>\n",
       "      <td>76.000000</td>\n",
       "      <td>61.000000</td>\n",
       "      <td>76.000000</td>\n",
       "      <td>137.000000</td>\n",
       "    </tr>\n",
       "    <tr>\n",
       "      <th>mean</th>\n",
       "      <td>5.590164</td>\n",
       "      <td>6.421053</td>\n",
       "      <td>5.475410</td>\n",
       "      <td>5.315789</td>\n",
       "      <td>5.459016</td>\n",
       "      <td>5.092105</td>\n",
       "      <td>5.918033</td>\n",
       "      <td>5.157895</td>\n",
       "      <td>5.547445</td>\n",
       "    </tr>\n",
       "    <tr>\n",
       "      <th>std</th>\n",
       "      <td>2.376111</td>\n",
       "      <td>2.222690</td>\n",
       "      <td>2.070479</td>\n",
       "      <td>2.509770</td>\n",
       "      <td>2.187645</td>\n",
       "      <td>2.699025</td>\n",
       "      <td>2.245700</td>\n",
       "      <td>2.315470</td>\n",
       "      <td>1.812825</td>\n",
       "    </tr>\n",
       "    <tr>\n",
       "      <th>min</th>\n",
       "      <td>1.000000</td>\n",
       "      <td>1.000000</td>\n",
       "      <td>1.000000</td>\n",
       "      <td>1.000000</td>\n",
       "      <td>1.000000</td>\n",
       "      <td>1.000000</td>\n",
       "      <td>1.000000</td>\n",
       "      <td>1.000000</td>\n",
       "      <td>1.000000</td>\n",
       "    </tr>\n",
       "    <tr>\n",
       "      <th>25%</th>\n",
       "      <td>4.000000</td>\n",
       "      <td>5.000000</td>\n",
       "      <td>4.000000</td>\n",
       "      <td>3.000000</td>\n",
       "      <td>4.000000</td>\n",
       "      <td>3.000000</td>\n",
       "      <td>5.000000</td>\n",
       "      <td>3.000000</td>\n",
       "      <td>4.250000</td>\n",
       "    </tr>\n",
       "    <tr>\n",
       "      <th>50%</th>\n",
       "      <td>6.000000</td>\n",
       "      <td>7.000000</td>\n",
       "      <td>6.000000</td>\n",
       "      <td>5.000000</td>\n",
       "      <td>5.000000</td>\n",
       "      <td>5.000000</td>\n",
       "      <td>6.000000</td>\n",
       "      <td>5.000000</td>\n",
       "      <td>5.750000</td>\n",
       "    </tr>\n",
       "    <tr>\n",
       "      <th>75%</th>\n",
       "      <td>7.000000</td>\n",
       "      <td>8.000000</td>\n",
       "      <td>7.000000</td>\n",
       "      <td>7.250000</td>\n",
       "      <td>7.000000</td>\n",
       "      <td>7.000000</td>\n",
       "      <td>8.000000</td>\n",
       "      <td>7.000000</td>\n",
       "      <td>6.750000</td>\n",
       "    </tr>\n",
       "    <tr>\n",
       "      <th>max</th>\n",
       "      <td>10.000000</td>\n",
       "      <td>10.000000</td>\n",
       "      <td>10.000000</td>\n",
       "      <td>10.000000</td>\n",
       "      <td>10.000000</td>\n",
       "      <td>10.000000</td>\n",
       "      <td>10.000000</td>\n",
       "      <td>10.000000</td>\n",
       "      <td>10.000000</td>\n",
       "    </tr>\n",
       "  </tbody>\n",
       "</table>\n",
       "</div>"
      ],
      "text/plain": [
       "       act_1_gen  act_2_gen  act_3_gen  act_4_gen  dra_1_gen  dra_2_gen  \\\n",
       "count  61.000000  76.000000  61.000000  76.000000  61.000000  76.000000   \n",
       "mean    5.590164   6.421053   5.475410   5.315789   5.459016   5.092105   \n",
       "std     2.376111   2.222690   2.070479   2.509770   2.187645   2.699025   \n",
       "min     1.000000   1.000000   1.000000   1.000000   1.000000   1.000000   \n",
       "25%     4.000000   5.000000   4.000000   3.000000   4.000000   3.000000   \n",
       "50%     6.000000   7.000000   6.000000   5.000000   5.000000   5.000000   \n",
       "75%     7.000000   8.000000   7.000000   7.250000   7.000000   7.000000   \n",
       "max    10.000000  10.000000  10.000000  10.000000  10.000000  10.000000   \n",
       "\n",
       "       dra_3_gen  dra_4_gen        mean  \n",
       "count  61.000000  76.000000  137.000000  \n",
       "mean    5.918033   5.157895    5.547445  \n",
       "std     2.245700   2.315470    1.812825  \n",
       "min     1.000000   1.000000    1.000000  \n",
       "25%     5.000000   3.000000    4.250000  \n",
       "50%     6.000000   5.000000    5.750000  \n",
       "75%     8.000000   7.000000    6.750000  \n",
       "max    10.000000  10.000000   10.000000  "
      ]
     },
     "execution_count": 75,
     "metadata": {},
     "output_type": "execute_result"
    }
   ],
   "source": [
    "analysis_ab_age_40.d_gen.describe()"
   ]
  },
  {
   "cell_type": "code",
   "execution_count": 76,
   "metadata": {},
   "outputs": [
    {
     "data": {
      "image/png": "[encoded data removed]",
      "text/plain": [
       "<Figure size 432x432 with 1 Axes>"
      ]
     },
     "metadata": {
      "needs_background": "light"
     },
     "output_type": "display_data"
    }
   ],
   "source": [
    "analysis_ab_age_40.plt_box()"
   ]
  },
  {
   "cell_type": "code",
   "execution_count": 77,
   "metadata": {},
   "outputs": [
    {
     "data": {
      "image/png": "[encoded data removed]",
      "text/plain": [
       "<Figure size 432x288 with 1 Axes>"
      ]
     },
     "metadata": {
      "needs_background": "light"
     },
     "output_type": "display_data"
    }
   ],
   "source": [
    "analysis_ab_age_40.plt_dist('')"
   ]
  },
  {
   "cell_type": "code",
   "execution_count": 78,
   "metadata": {},
   "outputs": [
    {
     "name": "stdout",
     "output_type": "stream",
     "text": [
      "art: 5.59\n",
      "gen: 5.55\n",
      "차이:  0.04\n"
     ]
    }
   ],
   "source": [
    "analysis_ab_age_40.mean()"
   ]
  },
  {
   "cell_type": "code",
   "execution_count": 79,
   "metadata": {},
   "outputs": [
    {
     "data": {
      "text/plain": [
       "LeveneResult(statistic=0.7720884194747125, pvalue=0.3803473083485167)"
      ]
     },
     "execution_count": 79,
     "metadata": {},
     "output_type": "execute_result"
    }
   ],
   "source": [
    "analysis_ab_age_40.levene_test()"
   ]
  },
  {
   "cell_type": "code",
   "execution_count": 80,
   "metadata": {},
   "outputs": [
    {
     "name": "stdout",
     "output_type": "stream",
     "text": [
      "Ttest_indResult(statistic=0.22317475659053163, pvalue=0.8235670084342716)\n"
     ]
    },
    {
     "data": {
      "text/plain": [
       "Ttest_indResult(statistic=0.22317475659053163, pvalue=0.8235670084342716)"
      ]
     },
     "execution_count": 80,
     "metadata": {},
     "output_type": "execute_result"
    }
   ],
   "source": [
    "analysis_ab_age_40.t_test()"
   ]
  },
  {
   "cell_type": "markdown",
   "metadata": {},
   "source": [
    "### 50대 이상 "
   ]
  },
  {
   "cell_type": "code",
   "execution_count": 81,
   "metadata": {},
   "outputs": [
    {
     "name": "stderr",
     "output_type": "stream",
     "text": [
      "/home/yun/.local/lib/python3.6/site-packages/ipykernel_launcher.py:9: FutureWarning: Sorting because non-concatenation axis is not aligned. A future version\n",
      "of pandas will change to not sort by default.\n",
      "\n",
      "To accept the future behavior, pass 'sort=False'.\n",
      "\n",
      "To retain the current behavior and silence the warning, pass 'sort=True'.\n",
      "\n",
      "  if __name__ == '__main__':\n",
      "/home/yun/.local/lib/python3.6/site-packages/ipykernel_launcher.py:12: FutureWarning: Sorting because non-concatenation axis is not aligned. A future version\n",
      "of pandas will change to not sort by default.\n",
      "\n",
      "To accept the future behavior, pass 'sort=False'.\n",
      "\n",
      "To retain the current behavior and silence the warning, pass 'sort=True'.\n",
      "\n",
      "  if sys.path[0] == '':\n"
     ]
    }
   ],
   "source": [
    "data_A_age_50 = data_A[data_A['나이']=='50대']\n",
    "data_B_age_50 = data_B[data_B['나이']=='50대']\n",
    "\n",
    "analysis_ab_age_50 = analysis(data_A_age_50, data_B_age_50)"
   ]
  },
  {
   "cell_type": "code",
   "execution_count": 82,
   "metadata": {},
   "outputs": [
    {
     "data": {
      "text/html": [
       "<div>\n",
       "<style scoped>\n",
       "    .dataframe tbody tr th:only-of-type {\n",
       "        vertical-align: middle;\n",
       "    }\n",
       "\n",
       "    .dataframe tbody tr th {\n",
       "        vertical-align: top;\n",
       "    }\n",
       "\n",
       "    .dataframe thead th {\n",
       "        text-align: right;\n",
       "    }\n",
       "</style>\n",
       "<table border=\"1\" class=\"dataframe\">\n",
       "  <thead>\n",
       "    <tr style=\"text-align: right;\">\n",
       "      <th></th>\n",
       "      <th>성별</th>\n",
       "      <th>나이</th>\n",
       "      <th>act_1_gen</th>\n",
       "      <th>dra_1_gen</th>\n",
       "      <th>act_2_art</th>\n",
       "      <th>dra_2_art</th>\n",
       "      <th>act_3_gen</th>\n",
       "      <th>dra_3_gen</th>\n",
       "      <th>act_4_art</th>\n",
       "      <th>dra_4_art</th>\n",
       "      <th>mean</th>\n",
       "      <th>sum</th>\n",
       "      <th>var</th>\n",
       "    </tr>\n",
       "  </thead>\n",
       "  <tbody>\n",
       "    <tr>\n",
       "      <th>4</th>\n",
       "      <td>남성</td>\n",
       "      <td>50대</td>\n",
       "      <td>2</td>\n",
       "      <td>5</td>\n",
       "      <td>4</td>\n",
       "      <td>4</td>\n",
       "      <td>2</td>\n",
       "      <td>5</td>\n",
       "      <td>6</td>\n",
       "      <td>7</td>\n",
       "      <td>4.375</td>\n",
       "      <td>35</td>\n",
       "      <td>3.125000</td>\n",
       "    </tr>\n",
       "    <tr>\n",
       "      <th>5</th>\n",
       "      <td>여성</td>\n",
       "      <td>50대</td>\n",
       "      <td>8</td>\n",
       "      <td>8</td>\n",
       "      <td>8</td>\n",
       "      <td>7</td>\n",
       "      <td>3</td>\n",
       "      <td>9</td>\n",
       "      <td>9</td>\n",
       "      <td>8</td>\n",
       "      <td>7.500</td>\n",
       "      <td>60</td>\n",
       "      <td>3.714286</td>\n",
       "    </tr>\n",
       "    <tr>\n",
       "      <th>49</th>\n",
       "      <td>남성</td>\n",
       "      <td>50대</td>\n",
       "      <td>5</td>\n",
       "      <td>6</td>\n",
       "      <td>5</td>\n",
       "      <td>6</td>\n",
       "      <td>6</td>\n",
       "      <td>6</td>\n",
       "      <td>5</td>\n",
       "      <td>6</td>\n",
       "      <td>5.625</td>\n",
       "      <td>45</td>\n",
       "      <td>0.267857</td>\n",
       "    </tr>\n",
       "    <tr>\n",
       "      <th>79</th>\n",
       "      <td>남성</td>\n",
       "      <td>50대</td>\n",
       "      <td>7</td>\n",
       "      <td>8</td>\n",
       "      <td>6</td>\n",
       "      <td>9</td>\n",
       "      <td>5</td>\n",
       "      <td>6</td>\n",
       "      <td>4</td>\n",
       "      <td>6</td>\n",
       "      <td>6.375</td>\n",
       "      <td>51</td>\n",
       "      <td>2.553571</td>\n",
       "    </tr>\n",
       "    <tr>\n",
       "      <th>98</th>\n",
       "      <td>남성</td>\n",
       "      <td>50대</td>\n",
       "      <td>9</td>\n",
       "      <td>2</td>\n",
       "      <td>5</td>\n",
       "      <td>5</td>\n",
       "      <td>5</td>\n",
       "      <td>8</td>\n",
       "      <td>7</td>\n",
       "      <td>6</td>\n",
       "      <td>5.875</td>\n",
       "      <td>47</td>\n",
       "      <td>4.696429</td>\n",
       "    </tr>\n",
       "    <tr>\n",
       "      <th>115</th>\n",
       "      <td>남성</td>\n",
       "      <td>50대</td>\n",
       "      <td>8</td>\n",
       "      <td>7</td>\n",
       "      <td>8</td>\n",
       "      <td>6</td>\n",
       "      <td>8</td>\n",
       "      <td>6</td>\n",
       "      <td>7</td>\n",
       "      <td>6</td>\n",
       "      <td>7.000</td>\n",
       "      <td>56</td>\n",
       "      <td>0.857143</td>\n",
       "    </tr>\n",
       "    <tr>\n",
       "      <th>154</th>\n",
       "      <td>남성</td>\n",
       "      <td>50대</td>\n",
       "      <td>3</td>\n",
       "      <td>4</td>\n",
       "      <td>3</td>\n",
       "      <td>4</td>\n",
       "      <td>3</td>\n",
       "      <td>2</td>\n",
       "      <td>5</td>\n",
       "      <td>5</td>\n",
       "      <td>3.625</td>\n",
       "      <td>29</td>\n",
       "      <td>1.125000</td>\n",
       "    </tr>\n",
       "    <tr>\n",
       "      <th>155</th>\n",
       "      <td>여성</td>\n",
       "      <td>50대</td>\n",
       "      <td>1</td>\n",
       "      <td>1</td>\n",
       "      <td>1</td>\n",
       "      <td>1</td>\n",
       "      <td>1</td>\n",
       "      <td>3</td>\n",
       "      <td>1</td>\n",
       "      <td>1</td>\n",
       "      <td>1.250</td>\n",
       "      <td>10</td>\n",
       "      <td>0.500000</td>\n",
       "    </tr>\n",
       "    <tr>\n",
       "      <th>175</th>\n",
       "      <td>남성</td>\n",
       "      <td>50대</td>\n",
       "      <td>8</td>\n",
       "      <td>8</td>\n",
       "      <td>6</td>\n",
       "      <td>7</td>\n",
       "      <td>8</td>\n",
       "      <td>7</td>\n",
       "      <td>6</td>\n",
       "      <td>7</td>\n",
       "      <td>7.125</td>\n",
       "      <td>57</td>\n",
       "      <td>0.696429</td>\n",
       "    </tr>\n",
       "    <tr>\n",
       "      <th>181</th>\n",
       "      <td>남성</td>\n",
       "      <td>50대</td>\n",
       "      <td>8</td>\n",
       "      <td>6</td>\n",
       "      <td>9</td>\n",
       "      <td>7</td>\n",
       "      <td>7</td>\n",
       "      <td>9</td>\n",
       "      <td>8</td>\n",
       "      <td>8</td>\n",
       "      <td>7.750</td>\n",
       "      <td>62</td>\n",
       "      <td>1.071429</td>\n",
       "    </tr>\n",
       "    <tr>\n",
       "      <th>215</th>\n",
       "      <td>남성</td>\n",
       "      <td>50대</td>\n",
       "      <td>7</td>\n",
       "      <td>8</td>\n",
       "      <td>9</td>\n",
       "      <td>7</td>\n",
       "      <td>5</td>\n",
       "      <td>9</td>\n",
       "      <td>7</td>\n",
       "      <td>7</td>\n",
       "      <td>7.375</td>\n",
       "      <td>59</td>\n",
       "      <td>1.696429</td>\n",
       "    </tr>\n",
       "    <tr>\n",
       "      <th>217</th>\n",
       "      <td>남성</td>\n",
       "      <td>50대</td>\n",
       "      <td>8</td>\n",
       "      <td>8</td>\n",
       "      <td>10</td>\n",
       "      <td>5</td>\n",
       "      <td>9</td>\n",
       "      <td>8</td>\n",
       "      <td>5</td>\n",
       "      <td>6</td>\n",
       "      <td>7.375</td>\n",
       "      <td>59</td>\n",
       "      <td>3.410714</td>\n",
       "    </tr>\n",
       "    <tr>\n",
       "      <th>224</th>\n",
       "      <td>남성</td>\n",
       "      <td>50대</td>\n",
       "      <td>8</td>\n",
       "      <td>7</td>\n",
       "      <td>5</td>\n",
       "      <td>3</td>\n",
       "      <td>1</td>\n",
       "      <td>3</td>\n",
       "      <td>4</td>\n",
       "      <td>6</td>\n",
       "      <td>4.625</td>\n",
       "      <td>37</td>\n",
       "      <td>5.410714</td>\n",
       "    </tr>\n",
       "    <tr>\n",
       "      <th>228</th>\n",
       "      <td>남성</td>\n",
       "      <td>50대</td>\n",
       "      <td>1</td>\n",
       "      <td>1</td>\n",
       "      <td>5</td>\n",
       "      <td>7</td>\n",
       "      <td>1</td>\n",
       "      <td>1</td>\n",
       "      <td>1</td>\n",
       "      <td>1</td>\n",
       "      <td>2.250</td>\n",
       "      <td>18</td>\n",
       "      <td>5.642857</td>\n",
       "    </tr>\n",
       "    <tr>\n",
       "      <th>231</th>\n",
       "      <td>남성</td>\n",
       "      <td>50대</td>\n",
       "      <td>8</td>\n",
       "      <td>7</td>\n",
       "      <td>9</td>\n",
       "      <td>6</td>\n",
       "      <td>8</td>\n",
       "      <td>7</td>\n",
       "      <td>8</td>\n",
       "      <td>7</td>\n",
       "      <td>7.500</td>\n",
       "      <td>60</td>\n",
       "      <td>0.857143</td>\n",
       "    </tr>\n",
       "    <tr>\n",
       "      <th>249</th>\n",
       "      <td>남성</td>\n",
       "      <td>50대</td>\n",
       "      <td>10</td>\n",
       "      <td>3</td>\n",
       "      <td>6</td>\n",
       "      <td>4</td>\n",
       "      <td>7</td>\n",
       "      <td>3</td>\n",
       "      <td>5</td>\n",
       "      <td>4</td>\n",
       "      <td>5.250</td>\n",
       "      <td>42</td>\n",
       "      <td>5.642857</td>\n",
       "    </tr>\n",
       "    <tr>\n",
       "      <th>250</th>\n",
       "      <td>남성</td>\n",
       "      <td>50대</td>\n",
       "      <td>10</td>\n",
       "      <td>6</td>\n",
       "      <td>8</td>\n",
       "      <td>5</td>\n",
       "      <td>9</td>\n",
       "      <td>9</td>\n",
       "      <td>9</td>\n",
       "      <td>8</td>\n",
       "      <td>8.000</td>\n",
       "      <td>64</td>\n",
       "      <td>2.857143</td>\n",
       "    </tr>\n",
       "  </tbody>\n",
       "</table>\n",
       "</div>"
      ],
      "text/plain": [
       "     성별   나이  act_1_gen  dra_1_gen  act_2_art  dra_2_art  act_3_gen  \\\n",
       "4    남성  50대          2          5          4          4          2   \n",
       "5    여성  50대          8          8          8          7          3   \n",
       "49   남성  50대          5          6          5          6          6   \n",
       "79   남성  50대          7          8          6          9          5   \n",
       "98   남성  50대          9          2          5          5          5   \n",
       "115  남성  50대          8          7          8          6          8   \n",
       "154  남성  50대          3          4          3          4          3   \n",
       "155  여성  50대          1          1          1          1          1   \n",
       "175  남성  50대          8          8          6          7          8   \n",
       "181  남성  50대          8          6          9          7          7   \n",
       "215  남성  50대          7          8          9          7          5   \n",
       "217  남성  50대          8          8         10          5          9   \n",
       "224  남성  50대          8          7          5          3          1   \n",
       "228  남성  50대          1          1          5          7          1   \n",
       "231  남성  50대          8          7          9          6          8   \n",
       "249  남성  50대         10          3          6          4          7   \n",
       "250  남성  50대         10          6          8          5          9   \n",
       "\n",
       "     dra_3_gen  act_4_art  dra_4_art   mean  sum       var  \n",
       "4            5          6          7  4.375   35  3.125000  \n",
       "5            9          9          8  7.500   60  3.714286  \n",
       "49           6          5          6  5.625   45  0.267857  \n",
       "79           6          4          6  6.375   51  2.553571  \n",
       "98           8          7          6  5.875   47  4.696429  \n",
       "115          6          7          6  7.000   56  0.857143  \n",
       "154          2          5          5  3.625   29  1.125000  \n",
       "155          3          1          1  1.250   10  0.500000  \n",
       "175          7          6          7  7.125   57  0.696429  \n",
       "181          9          8          8  7.750   62  1.071429  \n",
       "215          9          7          7  7.375   59  1.696429  \n",
       "217          8          5          6  7.375   59  3.410714  \n",
       "224          3          4          6  4.625   37  5.410714  \n",
       "228          1          1          1  2.250   18  5.642857  \n",
       "231          7          8          7  7.500   60  0.857143  \n",
       "249          3          5          4  5.250   42  5.642857  \n",
       "250          9          9          8  8.000   64  2.857143  "
      ]
     },
     "execution_count": 82,
     "metadata": {},
     "output_type": "execute_result"
    }
   ],
   "source": [
    "data_A_age_50"
   ]
  },
  {
   "cell_type": "code",
   "execution_count": 83,
   "metadata": {},
   "outputs": [
    {
     "data": {
      "text/html": [
       "<div>\n",
       "<style scoped>\n",
       "    .dataframe tbody tr th:only-of-type {\n",
       "        vertical-align: middle;\n",
       "    }\n",
       "\n",
       "    .dataframe tbody tr th {\n",
       "        vertical-align: top;\n",
       "    }\n",
       "\n",
       "    .dataframe thead th {\n",
       "        text-align: right;\n",
       "    }\n",
       "</style>\n",
       "<table border=\"1\" class=\"dataframe\">\n",
       "  <thead>\n",
       "    <tr style=\"text-align: right;\">\n",
       "      <th></th>\n",
       "      <th>act_1_art</th>\n",
       "      <th>act_2_art</th>\n",
       "      <th>act_3_art</th>\n",
       "      <th>act_4_art</th>\n",
       "      <th>dra_1_art</th>\n",
       "      <th>dra_2_art</th>\n",
       "      <th>dra_3_art</th>\n",
       "      <th>dra_4_art</th>\n",
       "      <th>mean</th>\n",
       "    </tr>\n",
       "  </thead>\n",
       "  <tbody>\n",
       "    <tr>\n",
       "      <th>count</th>\n",
       "      <td>17.000000</td>\n",
       "      <td>17.000000</td>\n",
       "      <td>17.000000</td>\n",
       "      <td>17.000000</td>\n",
       "      <td>17.000000</td>\n",
       "      <td>17.000000</td>\n",
       "      <td>17.000000</td>\n",
       "      <td>17.000000</td>\n",
       "      <td>34.000000</td>\n",
       "    </tr>\n",
       "    <tr>\n",
       "      <th>mean</th>\n",
       "      <td>5.941176</td>\n",
       "      <td>6.294118</td>\n",
       "      <td>5.882353</td>\n",
       "      <td>5.705882</td>\n",
       "      <td>5.352941</td>\n",
       "      <td>5.470588</td>\n",
       "      <td>4.235294</td>\n",
       "      <td>5.823529</td>\n",
       "      <td>5.588235</td>\n",
       "    </tr>\n",
       "    <tr>\n",
       "      <th>std</th>\n",
       "      <td>2.221221</td>\n",
       "      <td>2.443479</td>\n",
       "      <td>1.996320</td>\n",
       "      <td>2.365500</td>\n",
       "      <td>2.782561</td>\n",
       "      <td>1.907801</td>\n",
       "      <td>1.953504</td>\n",
       "      <td>2.098669</td>\n",
       "      <td>1.760125</td>\n",
       "    </tr>\n",
       "    <tr>\n",
       "      <th>min</th>\n",
       "      <td>2.000000</td>\n",
       "      <td>1.000000</td>\n",
       "      <td>3.000000</td>\n",
       "      <td>1.000000</td>\n",
       "      <td>1.000000</td>\n",
       "      <td>1.000000</td>\n",
       "      <td>1.000000</td>\n",
       "      <td>1.000000</td>\n",
       "      <td>1.000000</td>\n",
       "    </tr>\n",
       "    <tr>\n",
       "      <th>25%</th>\n",
       "      <td>5.000000</td>\n",
       "      <td>5.000000</td>\n",
       "      <td>4.000000</td>\n",
       "      <td>5.000000</td>\n",
       "      <td>3.000000</td>\n",
       "      <td>4.000000</td>\n",
       "      <td>3.000000</td>\n",
       "      <td>6.000000</td>\n",
       "      <td>4.500000</td>\n",
       "    </tr>\n",
       "    <tr>\n",
       "      <th>50%</th>\n",
       "      <td>6.000000</td>\n",
       "      <td>6.000000</td>\n",
       "      <td>6.000000</td>\n",
       "      <td>6.000000</td>\n",
       "      <td>6.000000</td>\n",
       "      <td>6.000000</td>\n",
       "      <td>5.000000</td>\n",
       "      <td>6.000000</td>\n",
       "      <td>5.625000</td>\n",
       "    </tr>\n",
       "    <tr>\n",
       "      <th>75%</th>\n",
       "      <td>8.000000</td>\n",
       "      <td>8.000000</td>\n",
       "      <td>7.000000</td>\n",
       "      <td>7.000000</td>\n",
       "      <td>8.000000</td>\n",
       "      <td>7.000000</td>\n",
       "      <td>6.000000</td>\n",
       "      <td>7.000000</td>\n",
       "      <td>6.750000</td>\n",
       "    </tr>\n",
       "    <tr>\n",
       "      <th>max</th>\n",
       "      <td>9.000000</td>\n",
       "      <td>10.000000</td>\n",
       "      <td>9.000000</td>\n",
       "      <td>9.000000</td>\n",
       "      <td>10.000000</td>\n",
       "      <td>9.000000</td>\n",
       "      <td>8.000000</td>\n",
       "      <td>8.000000</td>\n",
       "      <td>8.000000</td>\n",
       "    </tr>\n",
       "  </tbody>\n",
       "</table>\n",
       "</div>"
      ],
      "text/plain": [
       "       act_1_art  act_2_art  act_3_art  act_4_art  dra_1_art  dra_2_art  \\\n",
       "count  17.000000  17.000000  17.000000  17.000000  17.000000  17.000000   \n",
       "mean    5.941176   6.294118   5.882353   5.705882   5.352941   5.470588   \n",
       "std     2.221221   2.443479   1.996320   2.365500   2.782561   1.907801   \n",
       "min     2.000000   1.000000   3.000000   1.000000   1.000000   1.000000   \n",
       "25%     5.000000   5.000000   4.000000   5.000000   3.000000   4.000000   \n",
       "50%     6.000000   6.000000   6.000000   6.000000   6.000000   6.000000   \n",
       "75%     8.000000   8.000000   7.000000   7.000000   8.000000   7.000000   \n",
       "max     9.000000  10.000000   9.000000   9.000000  10.000000   9.000000   \n",
       "\n",
       "       dra_3_art  dra_4_art       mean  \n",
       "count  17.000000  17.000000  34.000000  \n",
       "mean    4.235294   5.823529   5.588235  \n",
       "std     1.953504   2.098669   1.760125  \n",
       "min     1.000000   1.000000   1.000000  \n",
       "25%     3.000000   6.000000   4.500000  \n",
       "50%     5.000000   6.000000   5.625000  \n",
       "75%     6.000000   7.000000   6.750000  \n",
       "max     8.000000   8.000000   8.000000  "
      ]
     },
     "execution_count": 83,
     "metadata": {},
     "output_type": "execute_result"
    }
   ],
   "source": [
    "analysis_ab_age_50.d_art.describe()"
   ]
  },
  {
   "cell_type": "code",
   "execution_count": 84,
   "metadata": {},
   "outputs": [
    {
     "data": {
      "text/html": [
       "<div>\n",
       "<style scoped>\n",
       "    .dataframe tbody tr th:only-of-type {\n",
       "        vertical-align: middle;\n",
       "    }\n",
       "\n",
       "    .dataframe tbody tr th {\n",
       "        vertical-align: top;\n",
       "    }\n",
       "\n",
       "    .dataframe thead th {\n",
       "        text-align: right;\n",
       "    }\n",
       "</style>\n",
       "<table border=\"1\" class=\"dataframe\">\n",
       "  <thead>\n",
       "    <tr style=\"text-align: right;\">\n",
       "      <th></th>\n",
       "      <th>act_1_gen</th>\n",
       "      <th>act_2_gen</th>\n",
       "      <th>act_3_gen</th>\n",
       "      <th>act_4_gen</th>\n",
       "      <th>dra_1_gen</th>\n",
       "      <th>dra_2_gen</th>\n",
       "      <th>dra_3_gen</th>\n",
       "      <th>dra_4_gen</th>\n",
       "      <th>mean</th>\n",
       "    </tr>\n",
       "  </thead>\n",
       "  <tbody>\n",
       "    <tr>\n",
       "      <th>count</th>\n",
       "      <td>17.000000</td>\n",
       "      <td>17.000000</td>\n",
       "      <td>17.000000</td>\n",
       "      <td>17.000000</td>\n",
       "      <td>17.000000</td>\n",
       "      <td>17.000000</td>\n",
       "      <td>17.000000</td>\n",
       "      <td>17.000000</td>\n",
       "      <td>34.000000</td>\n",
       "    </tr>\n",
       "    <tr>\n",
       "      <th>mean</th>\n",
       "      <td>6.529412</td>\n",
       "      <td>6.882353</td>\n",
       "      <td>5.176471</td>\n",
       "      <td>5.764706</td>\n",
       "      <td>5.588235</td>\n",
       "      <td>6.176471</td>\n",
       "      <td>5.941176</td>\n",
       "      <td>6.705882</td>\n",
       "      <td>6.095588</td>\n",
       "    </tr>\n",
       "    <tr>\n",
       "      <th>std</th>\n",
       "      <td>2.981561</td>\n",
       "      <td>1.691240</td>\n",
       "      <td>2.877397</td>\n",
       "      <td>2.222876</td>\n",
       "      <td>2.501470</td>\n",
       "      <td>2.128241</td>\n",
       "      <td>2.680266</td>\n",
       "      <td>2.229482</td>\n",
       "      <td>1.959838</td>\n",
       "    </tr>\n",
       "    <tr>\n",
       "      <th>min</th>\n",
       "      <td>1.000000</td>\n",
       "      <td>3.000000</td>\n",
       "      <td>1.000000</td>\n",
       "      <td>2.000000</td>\n",
       "      <td>1.000000</td>\n",
       "      <td>2.000000</td>\n",
       "      <td>1.000000</td>\n",
       "      <td>2.000000</td>\n",
       "      <td>1.000000</td>\n",
       "    </tr>\n",
       "    <tr>\n",
       "      <th>25%</th>\n",
       "      <td>5.000000</td>\n",
       "      <td>6.000000</td>\n",
       "      <td>3.000000</td>\n",
       "      <td>4.000000</td>\n",
       "      <td>4.000000</td>\n",
       "      <td>6.000000</td>\n",
       "      <td>3.000000</td>\n",
       "      <td>5.000000</td>\n",
       "      <td>5.187500</td>\n",
       "    </tr>\n",
       "    <tr>\n",
       "      <th>50%</th>\n",
       "      <td>8.000000</td>\n",
       "      <td>8.000000</td>\n",
       "      <td>5.000000</td>\n",
       "      <td>6.000000</td>\n",
       "      <td>6.000000</td>\n",
       "      <td>7.000000</td>\n",
       "      <td>6.000000</td>\n",
       "      <td>7.000000</td>\n",
       "      <td>6.375000</td>\n",
       "    </tr>\n",
       "    <tr>\n",
       "      <th>75%</th>\n",
       "      <td>8.000000</td>\n",
       "      <td>8.000000</td>\n",
       "      <td>8.000000</td>\n",
       "      <td>8.000000</td>\n",
       "      <td>8.000000</td>\n",
       "      <td>7.000000</td>\n",
       "      <td>8.000000</td>\n",
       "      <td>9.000000</td>\n",
       "      <td>7.500000</td>\n",
       "    </tr>\n",
       "    <tr>\n",
       "      <th>max</th>\n",
       "      <td>10.000000</td>\n",
       "      <td>9.000000</td>\n",
       "      <td>9.000000</td>\n",
       "      <td>9.000000</td>\n",
       "      <td>8.000000</td>\n",
       "      <td>10.000000</td>\n",
       "      <td>9.000000</td>\n",
       "      <td>10.000000</td>\n",
       "      <td>8.500000</td>\n",
       "    </tr>\n",
       "  </tbody>\n",
       "</table>\n",
       "</div>"
      ],
      "text/plain": [
       "       act_1_gen  act_2_gen  act_3_gen  act_4_gen  dra_1_gen  dra_2_gen  \\\n",
       "count  17.000000  17.000000  17.000000  17.000000  17.000000  17.000000   \n",
       "mean    6.529412   6.882353   5.176471   5.764706   5.588235   6.176471   \n",
       "std     2.981561   1.691240   2.877397   2.222876   2.501470   2.128241   \n",
       "min     1.000000   3.000000   1.000000   2.000000   1.000000   2.000000   \n",
       "25%     5.000000   6.000000   3.000000   4.000000   4.000000   6.000000   \n",
       "50%     8.000000   8.000000   5.000000   6.000000   6.000000   7.000000   \n",
       "75%     8.000000   8.000000   8.000000   8.000000   8.000000   7.000000   \n",
       "max    10.000000   9.000000   9.000000   9.000000   8.000000  10.000000   \n",
       "\n",
       "       dra_3_gen  dra_4_gen       mean  \n",
       "count  17.000000  17.000000  34.000000  \n",
       "mean    5.941176   6.705882   6.095588  \n",
       "std     2.680266   2.229482   1.959838  \n",
       "min     1.000000   2.000000   1.000000  \n",
       "25%     3.000000   5.000000   5.187500  \n",
       "50%     6.000000   7.000000   6.375000  \n",
       "75%     8.000000   9.000000   7.500000  \n",
       "max     9.000000  10.000000   8.500000  "
      ]
     },
     "execution_count": 84,
     "metadata": {},
     "output_type": "execute_result"
    }
   ],
   "source": [
    "analysis_ab_age_50.d_gen.describe()"
   ]
  },
  {
   "cell_type": "code",
   "execution_count": 85,
   "metadata": {},
   "outputs": [
    {
     "data": {
      "image/png": "[encoded data removed]",
      "text/plain": [
       "<Figure size 432x432 with 1 Axes>"
      ]
     },
     "metadata": {
      "needs_background": "light"
     },
     "output_type": "display_data"
    }
   ],
   "source": [
    "analysis_ab_age_50.plt_box()"
   ]
  },
  {
   "cell_type": "code",
   "execution_count": 86,
   "metadata": {
    "scrolled": true
   },
   "outputs": [
    {
     "name": "stderr",
     "output_type": "stream",
     "text": [
      "/home/yun/.local/lib/python3.6/site-packages/matplotlib/backends/backend_agg.py:211: RuntimeWarning: Glyph 8722 missing from current font.\n",
      "  font.set_text(s, 0.0, flags=flags)\n",
      "/home/yun/.local/lib/python3.6/site-packages/matplotlib/backends/backend_agg.py:180: RuntimeWarning: Glyph 8722 missing from current font.\n",
      "  font.set_text(s, 0, flags=flags)\n"
     ]
    },
    {
     "data": {
      "image/png": "[encoded data removed]",
      "text/plain": [
       "<Figure size 432x288 with 1 Axes>"
      ]
     },
     "metadata": {
      "needs_background": "light"
     },
     "output_type": "display_data"
    }
   ],
   "source": [
    "analysis_ab_age_50.plt_dist('')"
   ]
  },
  {
   "cell_type": "code",
   "execution_count": 87,
   "metadata": {
    "scrolled": true
   },
   "outputs": [
    {
     "name": "stdout",
     "output_type": "stream",
     "text": [
      "art: 5.59\n",
      "gen: 6.1\n",
      "차이:  0.51\n"
     ]
    }
   ],
   "source": [
    "analysis_ab_age_50.mean()"
   ]
  },
  {
   "cell_type": "code",
   "execution_count": 88,
   "metadata": {},
   "outputs": [
    {
     "data": {
      "text/plain": [
       "LeveneResult(statistic=0.15004546832373458, pvalue=0.6997382512709298)"
      ]
     },
     "execution_count": 88,
     "metadata": {},
     "output_type": "execute_result"
    }
   ],
   "source": [
    "analysis_ab_age_50.levene_test()"
   ]
  },
  {
   "cell_type": "code",
   "execution_count": 89,
   "metadata": {},
   "outputs": [
    {
     "name": "stdout",
     "output_type": "stream",
     "text": [
      "Ttest_indResult(statistic=-1.1230551187066493, pvalue=0.2654827687292523)\n"
     ]
    },
    {
     "data": {
      "text/plain": [
       "Ttest_indResult(statistic=-1.1230551187066493, pvalue=0.2654827687292523)"
      ]
     },
     "execution_count": 89,
     "metadata": {},
     "output_type": "execute_result"
    }
   ],
   "source": [
    "analysis_ab_age_50.t_test()"
   ]
  },
  {
   "cell_type": "code",
   "execution_count": null,
   "metadata": {},
   "outputs": [],
   "source": []
  },
  {
   "cell_type": "code",
   "execution_count": null,
   "metadata": {},
   "outputs": [],
   "source": []
  }
 ],
 "metadata": {
  "kernelspec": {
   "display_name": "Python 3",
   "language": "python",
   "name": "python3"
  },
  "language_info": {
   "codemirror_mode": {
    "name": "ipython",
    "version": 3
   },
   "file_extension": ".py",
   "mimetype": "text/x-python",
   "name": "python",
   "nbconvert_exporter": "python",
   "pygments_lexer": "ipython3",
   "version": "3.6.8"
  }
 },
 "nbformat": 4,
 "nbformat_minor": 2
}
